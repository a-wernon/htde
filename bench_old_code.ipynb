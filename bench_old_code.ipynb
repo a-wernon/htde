{
  "cells": [
    {
      "cell_type": "code",
      "execution_count": 1,
      "id": "d03ca770-7afb-44dd-8aa9-bb0dadab32d2",
      "metadata": {
        "id": "d03ca770-7afb-44dd-8aa9-bb0dadab32d2"
      },
      "outputs": [],
      "source": [
        "import torch\n",
        "import torch.nn as nn\n",
        "import matplotlib.pyplot as plt\n",
        "import pandas as pd\n",
        "import seaborn as sns\n",
        "import sklearn\n",
        "from sklearn import datasets\n",
        "import tqdm\n",
        "import numpy as np\n",
        "from sklearn.utils import shuffle"
      ]
    },
    {
      "cell_type": "code",
      "source": [],
      "metadata": {
        "id": "M-RcqRY4u6P4"
      },
      "id": "M-RcqRY4u6P4",
      "execution_count": 1,
      "outputs": []
    },
    {
      "cell_type": "code",
      "execution_count": 2,
      "id": "41b38a54-71aa-4231-8483-7e6f2eb20d23",
      "metadata": {
        "id": "41b38a54-71aa-4231-8483-7e6f2eb20d23",
        "outputId": "f3b17cf1-ade8-4a98-f768-03a58f7834ba",
        "colab": {
          "base_uri": "https://localhost:8080/"
        }
      },
      "outputs": [
        {
          "output_type": "stream",
          "name": "stdout",
          "text": [
            "fatal: destination path 'htde' already exists and is not an empty directory.\n"
          ]
        }
      ],
      "source": [
        "try:\n",
        "    from ht.ht import *\n",
        "except:\n",
        "    !git clone https://github.com/a-wernon/htde.git\n",
        "\n",
        "    from htde.ht.ht import *\n"
      ]
    },
    {
      "cell_type": "code",
      "execution_count": 3,
      "id": "20bb471a-91a6-439d-ad8c-6ebda872beea",
      "metadata": {
        "id": "20bb471a-91a6-439d-ad8c-6ebda872beea"
      },
      "outputs": [],
      "source": [
        "#same as in launch.ipynb, but in single function, to measure performance"
      ]
    },
    {
      "cell_type": "code",
      "execution_count": 9,
      "id": "148e04a7-3998-4b46-980d-15815a171bd6",
      "metadata": {
        "id": "148e04a7-3998-4b46-980d-15815a171bd6"
      },
      "outputs": [],
      "source": [
        "class HTModel(nn.Module):\n",
        "    def __init__(self, alpha, basis_functions, device='cpu'):\n",
        "        super(HTModel, self).__init__()\n",
        "        self.device = device\n",
        "        self.alpha = HTuckerNode(alpha, make_optim=True, device=self.device) #инитим рандомно пока, тут хранятся коэффициенты\n",
        "        self.basis_functions = basis_functions\n",
        "    def forward(self, x):\n",
        "        \n",
        "        #тут нужно в иксе вычислить значения всех базисных функций. В итоге это тензор ранга 1, как я понимаю\n",
        "        phi_big = HTuckerNode(self.basis_functions.get_val(x, device=self.device), device=self.device)\n",
        "        \n",
        "        out = self.alpha.scalar_product(phi_big) # scalar, size (1,1,1,1)\n",
        "        return out #torch.pow(out, 2), add it later\n",
        "    \n",
        "def my_loss(model, x, debug=False):\n",
        "    # это вычисление нашего интегрального лосса в точке\n",
        "    ds = 0 #нужно получить матрицу D по формуле из иксов\n",
        "    #кажется, что в случае базиса фурье это просто единичная матрица, поэтому пока опустим.\n",
        "    comp_1 = model.alpha.scalar_product(model.alpha)\n",
        "    comp_2 = -2 * model(x)\n",
        "    \n",
        "    if debug:\n",
        "        print(comp_1, comp_2)\n",
        "    \n",
        "    return torch.mean(comp_1 + comp_2)"
      ]
    },
    {
      "cell_type": "code",
      "execution_count": 10,
      "id": "dfa84681-afa8-4449-9dde-2d8c0188a8a8",
      "metadata": {
        "id": "dfa84681-afa8-4449-9dde-2d8c0188a8a8"
      },
      "outputs": [],
      "source": [
        "def launch_code(basic_size, hidden_dim, n_epochs=100, batch_size=100, lr=1e-3, ds_size=1000, device='cpu', plot_result=True):\n",
        "    \n",
        "    content_sample = [\n",
        "        [\n",
        "            [\n",
        "                torch.Tensor(np.random.rand(1, basic_size, hidden_dim)),\n",
        "                torch.Tensor(np.random.rand(hidden_dim, hidden_dim, hidden_dim)),\n",
        "                torch.Tensor(np.random.rand(hidden_dim, basic_size, 1))\n",
        "            ],\n",
        "        torch.Tensor(np.random.rand(hidden_dim, hidden_dim, hidden_dim)),\n",
        "            [\n",
        "                torch.Tensor(np.random.rand(1, basic_size, hidden_dim)),\n",
        "                torch.Tensor(np.random.rand(hidden_dim, hidden_dim, hidden_dim)),\n",
        "                torch.Tensor(np.random.rand(hidden_dim, basic_size, 1))\n",
        "            ]\n",
        "        ],\n",
        "        torch.Tensor(np.random.rand(hidden_dim, 1, hidden_dim)),\n",
        "        [\n",
        "            [\n",
        "                torch.Tensor(np.random.rand(1, basic_size, hidden_dim)),\n",
        "                torch.Tensor(np.random.rand(hidden_dim, hidden_dim, hidden_dim)),\n",
        "                torch.Tensor(np.random.rand(hidden_dim, basic_size, 1))\n",
        "            ],\n",
        "            torch.Tensor(np.random.rand(hidden_dim, hidden_dim, hidden_dim)),\n",
        "            [\n",
        "                torch.Tensor(np.random.rand(1, basic_size, hidden_dim)),\n",
        "                torch.Tensor(np.random.rand(hidden_dim, hidden_dim, hidden_dim)),\n",
        "                torch.Tensor(np.random.rand(hidden_dim, basic_size, 1))\n",
        "            ]\n",
        "        ]\n",
        "    ]\n",
        "    \n",
        "    \n",
        "    functional_content = [\n",
        "        [\n",
        "            [\n",
        "                FuncList(\n",
        "                    [fourier_basis(i) for i in range(basic_size)]\n",
        "                )\n",
        "                ,\n",
        "                FuncList(\n",
        "                    [fourier_basis(i) for i in range(basic_size)]\n",
        "                )\n",
        "            ],\n",
        "            [\n",
        "                FuncList(\n",
        "                    [fourier_basis(i) for i in range(basic_size)]\n",
        "                )\n",
        "                ,\n",
        "                FuncList(\n",
        "                    [fourier_basis(i) for i in range(basic_size)]\n",
        "                )\n",
        "            ]    \n",
        "        ],\n",
        "        [\n",
        "            [\n",
        "                FuncList(\n",
        "                    [fourier_basis(i) for i in range(basic_size)]\n",
        "                )\n",
        "                ,\n",
        "                FuncList(\n",
        "                    [fourier_basis(i) for i in range(basic_size)]\n",
        "                )\n",
        "            ],\n",
        "            [\n",
        "                FuncList(\n",
        "                    [fourier_basis(i) for i in range(basic_size)]\n",
        "                )\n",
        "                ,\n",
        "                FuncList(\n",
        "                    [fourier_basis(i) for i in range(basic_size)]\n",
        "                )\n",
        "            ]    \n",
        "        ]\n",
        "    ]\n",
        "    \n",
        "    device = device\n",
        "    #torch.device('cuda' if torch.cuda.is_available() else 'cpu')\n",
        "\n",
        "    basis_functions = FunctionalHTuckerNode(functional_content)\n",
        "\n",
        "    # need to rewrite all of the model interfaces in future\n",
        "    model = HTModel(content_sample, basis_functions, device=device).to(device)\n",
        "\n",
        "    criterion = my_loss\n",
        "\n",
        "    #print(model)\n",
        "    \n",
        "    optimizer = torch.optim.Adam(model.alpha.get_params_for_optim(), lr = lr)\n",
        "    \n",
        "    mock_data = np.random.normal(size = (ds_size, 8))\n",
        "    \n",
        "    mock_data -= mock_data.mean(axis = 0)\n",
        "    mock_data *= ((np.pi - 1) / np.abs(mock_data).max(axis = 0))\n",
        "    \n",
        "    epochs = n_epochs\n",
        "    batch_size = batch_size\n",
        "    loss = 0\n",
        "\n",
        "    losses = []\n",
        "\n",
        "    for i in tqdm.tqdm(range(epochs)):\n",
        "        cum_losses = []\n",
        "        loss = 0\n",
        "        ds = shuffle(mock_data)\n",
        "        for j in range(len(ds) // batch_size):\n",
        "\n",
        "            loss += criterion(model, ds[j * batch_size: (j + 1) * batch_size])\n",
        "\n",
        "            #print(loss)\n",
        "\n",
        "\n",
        "            loss_fin = loss\n",
        "            #print(loss.shape)\n",
        "\n",
        "            loss_fin.backward()\n",
        "\n",
        "            cum_losses.append(loss_fin.cpu().detach().numpy())\n",
        "\n",
        "            loss = 0\n",
        "            optimizer.step()\n",
        "            optimizer.zero_grad()\n",
        "\n",
        "        losses.append(np.mean(cum_losses) / batch_size)\n",
        "    \n",
        "    if plot_result:\n",
        "        plt.plot(losses[:])\n",
        "        plt.yscale('log')"
      ]
    },
    {
      "cell_type": "code",
      "source": [
        "cpu = torch.device('cpu')\n",
        "gpu = torch.device('cuda')"
      ],
      "metadata": {
        "id": "JpF4JibIwu_2"
      },
      "id": "JpF4JibIwu_2",
      "execution_count": 11,
      "outputs": []
    },
    {
      "cell_type": "code",
      "execution_count": 14,
      "id": "ca5e9d2d-1177-4822-ac64-d5638fa72b3b",
      "metadata": {
        "id": "ca5e9d2d-1177-4822-ac64-d5638fa72b3b",
        "outputId": "1e622258-2e26-4fcf-ab5e-5d2f879abd4e",
        "colab": {
          "base_uri": "https://localhost:8080/",
          "height": 282
        }
      },
      "outputs": [
        {
          "output_type": "stream",
          "name": "stderr",
          "text": [
            "100%|██████████| 100/100 [04:24<00:00,  2.64s/it]\n"
          ]
        },
        {
          "output_type": "display_data",
          "data": {
            "text/plain": [
              "<Figure size 432x288 with 1 Axes>"
            ],
            "image/png": "[encoded data removed]"
          },
          "metadata": {
            "needs_background": "light"
          }
        }
      ],
      "source": [
        "launch_code(basic_size=16, hidden_dim=4, n_epochs=100, batch_size=100, lr=1e-2, ds_size=10000, device=gpu, plot_result=True)"
      ]
    },
    {
      "cell_type": "code",
      "execution_count": 7,
      "id": "8cd98a1e-75e0-4399-b5b7-0dad032003cb",
      "metadata": {
        "id": "8cd98a1e-75e0-4399-b5b7-0dad032003cb"
      },
      "outputs": [],
      "source": []
    }
  ],
  "metadata": {
    "kernelspec": {
      "display_name": "Python 3 (ipykernel)",
      "language": "python",
      "name": "python3"
    },
    "language_info": {
      "codemirror_mode": {
        "name": "ipython",
        "version": 3
      },
      "file_extension": ".py",
      "mimetype": "text/x-python",
      "name": "python",
      "nbconvert_exporter": "python",
      "pygments_lexer": "ipython3",
      "version": "3.10.6"
    },
    "colab": {
      "provenance": []
    },
    "accelerator": "GPU",
    "gpuClass": "standard"
  },
  "nbformat": 4,
  "nbformat_minor": 5
}