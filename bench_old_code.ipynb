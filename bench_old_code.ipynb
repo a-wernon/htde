{
  "cells": [
    {
      "cell_type": "code",
      "execution_count": 1,
      "id": "d03ca770-7afb-44dd-8aa9-bb0dadab32d2",
      "metadata": {
        "id": "d03ca770-7afb-44dd-8aa9-bb0dadab32d2"
      },
      "outputs": [],
      "source": [
        "import torch\n",
        "import torch.nn as nn\n",
        "import matplotlib.pyplot as plt\n",
        "import pandas as pd\n",
        "import seaborn as sns\n",
        "import sklearn\n",
        "from sklearn import datasets\n",
        "import tqdm\n",
        "import numpy as np\n",
        "from sklearn.utils import shuffle\n",
        "from time import perf_counter"
      ]
    },
    {
      "cell_type": "code",
      "source": [
        "# old code in naming means that it uses my class as an realisation of htde"
      ],
      "metadata": {
        "id": "M-RcqRY4u6P4"
      },
      "id": "M-RcqRY4u6P4",
      "execution_count": 2,
      "outputs": []
    },
    {
      "cell_type": "code",
      "execution_count": 3,
      "id": "41b38a54-71aa-4231-8483-7e6f2eb20d23",
      "metadata": {
        "id": "41b38a54-71aa-4231-8483-7e6f2eb20d23",
        "outputId": "503fcf6c-056a-4ce5-a970-b4f96c9705bc",
        "colab": {
          "base_uri": "https://localhost:8080/"
        }
      },
      "outputs": [
        {
          "output_type": "stream",
          "name": "stdout",
          "text": [
            "fatal: destination path 'htde' already exists and is not an empty directory.\n"
          ]
        }
      ],
      "source": [
        "try:\n",
        "    from ht.ht import *\n",
        "except:\n",
        "    !git clone https://github.com/a-wernon/htde.git\n",
        "\n",
        "    from htde.ht.ht import *\n"
      ]
    },
    {
      "cell_type": "code",
      "execution_count": 4,
      "id": "20bb471a-91a6-439d-ad8c-6ebda872beea",
      "metadata": {
        "id": "20bb471a-91a6-439d-ad8c-6ebda872beea"
      },
      "outputs": [],
      "source": [
        "#same as in launch.ipynb, but in single function, to measure performance"
      ]
    },
    {
      "cell_type": "code",
      "execution_count": 5,
      "id": "148e04a7-3998-4b46-980d-15815a171bd6",
      "metadata": {
        "id": "148e04a7-3998-4b46-980d-15815a171bd6"
      },
      "outputs": [],
      "source": [
        "class HTModel(nn.Module):\n",
        "    def __init__(self, alpha, basis_functions, device='cpu'):\n",
        "        super(HTModel, self).__init__()\n",
        "        self.device = device\n",
        "        self.alpha = HTuckerNode(alpha, make_optim=True, device=self.device) #инитим рандомно пока, тут хранятся коэффициенты\n",
        "        self.basis_functions = basis_functions\n",
        "    def forward(self, x):\n",
        "        \n",
        "        #тут нужно в иксе вычислить значения всех базисных функций. В итоге это тензор ранга 1, как я понимаю\n",
        "        phi_big = HTuckerNode(self.basis_functions.get_val(x, device=self.device), device=self.device)\n",
        "        \n",
        "        out = self.alpha.scalar_product(phi_big) # scalar, size (1,1,1,1)\n",
        "        return out #torch.pow(out, 2), add it later\n",
        "    \n",
        "def my_loss(model, x, debug=False):\n",
        "    # это вычисление нашего интегрального лосса в точке\n",
        "    ds = 0 #нужно получить матрицу D по формуле из иксов\n",
        "    #кажется, что в случае базиса фурье это просто единичная матрица, поэтому пока опустим.\n",
        "    comp_1 = model.alpha.scalar_product(model.alpha)\n",
        "    comp_2 = -2 * model(x)\n",
        "    \n",
        "    if debug:\n",
        "        print(comp_1, comp_2)\n",
        "    \n",
        "    return torch.mean(comp_1 + comp_2)"
      ]
    },
    {
      "cell_type": "code",
      "execution_count": 6,
      "id": "dfa84681-afa8-4449-9dde-2d8c0188a8a8",
      "metadata": {
        "id": "dfa84681-afa8-4449-9dde-2d8c0188a8a8"
      },
      "outputs": [],
      "source": [
        "def launch_code(basic_size, hidden_dim, n_epochs=100, batch_size=100, lr=1e-3, ds_size=1000, device='cpu', plot_result=True, track_time=False):\n",
        "    content_sample = [\n",
        "        [\n",
        "            [\n",
        "                torch.Tensor(np.random.rand(1, basic_size, hidden_dim)),\n",
        "                torch.Tensor(np.random.rand(hidden_dim, hidden_dim, hidden_dim)),\n",
        "                torch.Tensor(np.random.rand(hidden_dim, basic_size, 1))\n",
        "            ],\n",
        "        torch.Tensor(np.random.rand(hidden_dim, hidden_dim, hidden_dim)),\n",
        "            [\n",
        "                torch.Tensor(np.random.rand(1, basic_size, hidden_dim)),\n",
        "                torch.Tensor(np.random.rand(hidden_dim, hidden_dim, hidden_dim)),\n",
        "                torch.Tensor(np.random.rand(hidden_dim, basic_size, 1))\n",
        "            ]\n",
        "        ],\n",
        "        torch.Tensor(np.random.rand(hidden_dim, 1, hidden_dim)),\n",
        "        [\n",
        "            [\n",
        "                torch.Tensor(np.random.rand(1, basic_size, hidden_dim)),\n",
        "                torch.Tensor(np.random.rand(hidden_dim, hidden_dim, hidden_dim)),\n",
        "                torch.Tensor(np.random.rand(hidden_dim, basic_size, 1))\n",
        "            ],\n",
        "            torch.Tensor(np.random.rand(hidden_dim, hidden_dim, hidden_dim)),\n",
        "            [\n",
        "                torch.Tensor(np.random.rand(1, basic_size, hidden_dim)),\n",
        "                torch.Tensor(np.random.rand(hidden_dim, hidden_dim, hidden_dim)),\n",
        "                torch.Tensor(np.random.rand(hidden_dim, basic_size, 1))\n",
        "            ]\n",
        "        ]\n",
        "    ]\n",
        "    \n",
        "    \n",
        "    functional_content = [\n",
        "        [\n",
        "            [\n",
        "                FuncList(\n",
        "                    [fourier_basis(i) for i in range(basic_size)]\n",
        "                )\n",
        "                ,\n",
        "                FuncList(\n",
        "                    [fourier_basis(i) for i in range(basic_size)]\n",
        "                )\n",
        "            ],\n",
        "            [\n",
        "                FuncList(\n",
        "                    [fourier_basis(i) for i in range(basic_size)]\n",
        "                )\n",
        "                ,\n",
        "                FuncList(\n",
        "                    [fourier_basis(i) for i in range(basic_size)]\n",
        "                )\n",
        "            ]    \n",
        "        ],\n",
        "        [\n",
        "            [\n",
        "                FuncList(\n",
        "                    [fourier_basis(i) for i in range(basic_size)]\n",
        "                )\n",
        "                ,\n",
        "                FuncList(\n",
        "                    [fourier_basis(i) for i in range(basic_size)]\n",
        "                )\n",
        "            ],\n",
        "            [\n",
        "                FuncList(\n",
        "                    [fourier_basis(i) for i in range(basic_size)]\n",
        "                )\n",
        "                ,\n",
        "                FuncList(\n",
        "                    [fourier_basis(i) for i in range(basic_size)]\n",
        "                )\n",
        "            ]    \n",
        "        ]\n",
        "    ]\n",
        "    \n",
        "    device = device\n",
        "    #torch.device('cuda' if torch.cuda.is_available() else 'cpu')\n",
        "\n",
        "    basis_functions = FunctionalHTuckerNode(functional_content)\n",
        "\n",
        "    if track_time:\n",
        "        start_time = perf_counter()\n",
        "    # need to rewrite all of the model interfaces in future\n",
        "    model = HTModel(content_sample, basis_functions, device=device).to(device)\n",
        "\n",
        "    criterion = my_loss\n",
        "\n",
        "    #print(model)\n",
        "    \n",
        "    optimizer = torch.optim.Adam(model.alpha.get_params_for_optim(), lr = lr)\n",
        "    \n",
        "    mock_data = np.random.normal(size = (ds_size, 8))\n",
        "    \n",
        "    mock_data -= mock_data.mean(axis = 0)\n",
        "    mock_data *= ((np.pi - 1) / np.abs(mock_data).max(axis = 0))\n",
        "    \n",
        "    epochs = n_epochs\n",
        "    batch_size = batch_size\n",
        "    loss = 0\n",
        "\n",
        "    losses = []\n",
        "\n",
        "    for i in tqdm.tqdm(range(epochs)):\n",
        "        cum_losses = []\n",
        "        loss = 0\n",
        "        ds = shuffle(mock_data)\n",
        "        for j in range(len(ds) // batch_size):\n",
        "\n",
        "            loss += criterion(model, ds[j * batch_size: (j + 1) * batch_size])\n",
        "\n",
        "            #print(loss)\n",
        "\n",
        "\n",
        "            loss_fin = loss\n",
        "            #print(loss.shape)\n",
        "\n",
        "            loss_fin.backward()\n",
        "\n",
        "            cum_losses.append(loss_fin.cpu().detach().numpy())\n",
        "\n",
        "            loss = 0\n",
        "            optimizer.step()\n",
        "            optimizer.zero_grad()\n",
        "\n",
        "        losses.append(np.mean(cum_losses) / batch_size)\n",
        "    \n",
        "    if plot_result:\n",
        "        plt.plot(losses[:])\n",
        "        plt.yscale('log')\n",
        "\n",
        "    if track_time:\n",
        "        return perf_counter() - start_time"
      ]
    },
    {
      "cell_type": "code",
      "source": [
        "cpu = torch.device('cpu')\n",
        "gpu = torch.device('cuda')"
      ],
      "metadata": {
        "id": "JpF4JibIwu_2"
      },
      "id": "JpF4JibIwu_2",
      "execution_count": 7,
      "outputs": []
    },
    {
      "cell_type": "code",
      "execution_count": 8,
      "id": "ca5e9d2d-1177-4822-ac64-d5638fa72b3b",
      "metadata": {
        "id": "ca5e9d2d-1177-4822-ac64-d5638fa72b3b",
        "outputId": "6b4b4f31-d5e6-4394-bb3d-970eb1dc371e",
        "colab": {
          "base_uri": "https://localhost:8080/",
          "height": 659
        }
      },
      "outputs": [
        {
          "output_type": "stream",
          "name": "stderr",
          "text": [
            "100%|██████████| 100/100 [01:30<00:00,  1.10it/s]\n",
            "100%|██████████| 100/100 [01:24<00:00,  1.19it/s]\n",
            "100%|██████████| 100/100 [01:25<00:00,  1.17it/s]\n",
            "100%|██████████| 100/100 [01:23<00:00,  1.19it/s]\n",
            "100%|██████████| 100/100 [01:28<00:00,  1.13it/s]\n",
            "100%|██████████| 100/100 [01:23<00:00,  1.19it/s]\n",
            "100%|██████████| 100/100 [01:39<00:00,  1.01it/s]\n",
            "100%|██████████| 100/100 [01:27<00:00,  1.14it/s]\n",
            "100%|██████████| 100/100 [02:17<00:00,  1.38s/it]\n",
            "100%|██████████| 100/100 [01:26<00:00,  1.15it/s]\n",
            "100%|██████████| 100/100 [11:50<00:00,  7.10s/it]\n",
            "100%|██████████| 100/100 [01:30<00:00,  1.10it/s]\n",
            " 21%|██        | 21/100 [14:35<54:52, 41.67s/it]\n"
          ]
        },
        {
          "output_type": "error",
          "ename": "KeyboardInterrupt",
          "evalue": "ignored",
          "traceback": [
            "\u001b[0;31m---------------------------------------------------------------------------\u001b[0m",
            "\u001b[0;31mKeyboardInterrupt\u001b[0m                         Traceback (most recent call last)",
            "\u001b[0;32m<ipython-input-8-7abbc1e30b0c>\u001b[0m in \u001b[0;36m<module>\u001b[0;34m\u001b[0m\n\u001b[1;32m     11\u001b[0m \u001b[0;34m\u001b[0m\u001b[0m\n\u001b[1;32m     12\u001b[0m     cpu_time.append(\n\u001b[0;32m---> 13\u001b[0;31m         launch_code(\n\u001b[0m\u001b[1;32m     14\u001b[0m             \u001b[0mbasic_size\u001b[0m\u001b[0;34m=\u001b[0m\u001b[0mbasic_size\u001b[0m\u001b[0;34m,\u001b[0m\u001b[0;34m\u001b[0m\u001b[0;34m\u001b[0m\u001b[0m\n\u001b[1;32m     15\u001b[0m             \u001b[0mhidden_dim\u001b[0m\u001b[0;34m=\u001b[0m\u001b[0mhidden_dim\u001b[0m\u001b[0;34m,\u001b[0m\u001b[0;34m\u001b[0m\u001b[0;34m\u001b[0m\u001b[0m\n",
            "\u001b[0;32m<ipython-input-6-6036f1c856d7>\u001b[0m in \u001b[0;36mlaunch_code\u001b[0;34m(basic_size, hidden_dim, n_epochs, batch_size, lr, ds_size, device, plot_result, track_time)\u001b[0m\n\u001b[1;32m    115\u001b[0m             \u001b[0;31m#print(loss.shape)\u001b[0m\u001b[0;34m\u001b[0m\u001b[0;34m\u001b[0m\u001b[0;34m\u001b[0m\u001b[0m\n\u001b[1;32m    116\u001b[0m \u001b[0;34m\u001b[0m\u001b[0m\n\u001b[0;32m--> 117\u001b[0;31m             \u001b[0mloss_fin\u001b[0m\u001b[0;34m.\u001b[0m\u001b[0mbackward\u001b[0m\u001b[0;34m(\u001b[0m\u001b[0;34m)\u001b[0m\u001b[0;34m\u001b[0m\u001b[0;34m\u001b[0m\u001b[0m\n\u001b[0m\u001b[1;32m    118\u001b[0m \u001b[0;34m\u001b[0m\u001b[0m\n\u001b[1;32m    119\u001b[0m             \u001b[0mcum_losses\u001b[0m\u001b[0;34m.\u001b[0m\u001b[0mappend\u001b[0m\u001b[0;34m(\u001b[0m\u001b[0mloss_fin\u001b[0m\u001b[0;34m.\u001b[0m\u001b[0mcpu\u001b[0m\u001b[0;34m(\u001b[0m\u001b[0;34m)\u001b[0m\u001b[0;34m.\u001b[0m\u001b[0mdetach\u001b[0m\u001b[0;34m(\u001b[0m\u001b[0;34m)\u001b[0m\u001b[0;34m.\u001b[0m\u001b[0mnumpy\u001b[0m\u001b[0;34m(\u001b[0m\u001b[0;34m)\u001b[0m\u001b[0;34m)\u001b[0m\u001b[0;34m\u001b[0m\u001b[0;34m\u001b[0m\u001b[0m\n",
            "\u001b[0;32m/usr/local/lib/python3.8/dist-packages/torch/_tensor.py\u001b[0m in \u001b[0;36mbackward\u001b[0;34m(self, gradient, retain_graph, create_graph, inputs)\u001b[0m\n\u001b[1;32m    486\u001b[0m                 \u001b[0minputs\u001b[0m\u001b[0;34m=\u001b[0m\u001b[0minputs\u001b[0m\u001b[0;34m,\u001b[0m\u001b[0;34m\u001b[0m\u001b[0;34m\u001b[0m\u001b[0m\n\u001b[1;32m    487\u001b[0m             )\n\u001b[0;32m--> 488\u001b[0;31m         torch.autograd.backward(\n\u001b[0m\u001b[1;32m    489\u001b[0m             \u001b[0mself\u001b[0m\u001b[0;34m,\u001b[0m \u001b[0mgradient\u001b[0m\u001b[0;34m,\u001b[0m \u001b[0mretain_graph\u001b[0m\u001b[0;34m,\u001b[0m \u001b[0mcreate_graph\u001b[0m\u001b[0;34m,\u001b[0m \u001b[0minputs\u001b[0m\u001b[0;34m=\u001b[0m\u001b[0minputs\u001b[0m\u001b[0;34m\u001b[0m\u001b[0;34m\u001b[0m\u001b[0m\n\u001b[1;32m    490\u001b[0m         )\n",
            "\u001b[0;32m/usr/local/lib/python3.8/dist-packages/torch/autograd/__init__.py\u001b[0m in \u001b[0;36mbackward\u001b[0;34m(tensors, grad_tensors, retain_graph, create_graph, grad_variables, inputs)\u001b[0m\n\u001b[1;32m    195\u001b[0m     \u001b[0;31m# some Python versions print out the first line of a multi-line function\u001b[0m\u001b[0;34m\u001b[0m\u001b[0;34m\u001b[0m\u001b[0;34m\u001b[0m\u001b[0m\n\u001b[1;32m    196\u001b[0m     \u001b[0;31m# calls in the traceback and some print out the last line\u001b[0m\u001b[0;34m\u001b[0m\u001b[0;34m\u001b[0m\u001b[0;34m\u001b[0m\u001b[0m\n\u001b[0;32m--> 197\u001b[0;31m     Variable._execution_engine.run_backward(  # Calls into the C++ engine to run the backward pass\n\u001b[0m\u001b[1;32m    198\u001b[0m         \u001b[0mtensors\u001b[0m\u001b[0;34m,\u001b[0m \u001b[0mgrad_tensors_\u001b[0m\u001b[0;34m,\u001b[0m \u001b[0mretain_graph\u001b[0m\u001b[0;34m,\u001b[0m \u001b[0mcreate_graph\u001b[0m\u001b[0;34m,\u001b[0m \u001b[0minputs\u001b[0m\u001b[0;34m,\u001b[0m\u001b[0;34m\u001b[0m\u001b[0;34m\u001b[0m\u001b[0m\n\u001b[1;32m    199\u001b[0m         allow_unreachable=True, accumulate_grad=True)  # Calls into the C++ engine to run the backward pass\n",
            "\u001b[0;31mKeyboardInterrupt\u001b[0m: "
          ]
        }
      ],
      "source": [
        "basic_size = 256\n",
        "hidden_dims = [2, 4, 8, 16, 32, 64, 128, 256]\n",
        "n_epochs = 100\n",
        "ds_size = 10000\n",
        "batch_size = 1000\n",
        "\n",
        "cpu_time = []\n",
        "gpu_time = []\n",
        "\n",
        "for hidden_dim in hidden_dims:\n",
        "\n",
        "    cpu_time.append(\n",
        "        launch_code(\n",
        "            basic_size=basic_size, \n",
        "            hidden_dim=hidden_dim, \n",
        "            n_epochs=n_epochs, \n",
        "            batch_size=batch_size, \n",
        "            lr=1e-2, \n",
        "            ds_size=ds_size, \n",
        "            device=cpu, \n",
        "            plot_result=False, \n",
        "            track_time=True\n",
        "        )\n",
        "    )\n",
        "\n",
        "    gpu_time.append(\n",
        "        launch_code(\n",
        "            basic_size=basic_size, \n",
        "            hidden_dim=hidden_dim, \n",
        "            n_epochs=n_epochs, \n",
        "            batch_size=batch_size, \n",
        "            lr=1e-2, \n",
        "            ds_size=ds_size, \n",
        "            device=gpu, \n",
        "            plot_result=False, \n",
        "            track_time=True\n",
        "        )\n",
        "    )\n",
        "\n"
      ]
    },
    {
      "cell_type": "code",
      "execution_count": 10,
      "id": "8cd98a1e-75e0-4399-b5b7-0dad032003cb",
      "metadata": {
        "id": "8cd98a1e-75e0-4399-b5b7-0dad032003cb",
        "outputId": "c2c42de2-a24c-4add-e3dd-91c887b4835a",
        "colab": {
          "base_uri": "https://localhost:8080/",
          "height": 314
        }
      },
      "outputs": [
        {
          "output_type": "display_data",
          "data": {
            "text/plain": [
              "<Figure size 432x288 with 1 Axes>"
            ],
            "image/png": "[encoded data removed]"
          },
          "metadata": {
            "needs_background": "light"
          }
        }
      ],
      "source": [
        "plt.title(\n",
        "    f'''Time in seconds for 8d gaussian for following parameters: \n",
        "    n_basis_functions:{basic_size}, n_epochs:{n_epochs}, ds_size:{ds_size}, batch_size:{1000}'''\n",
        ")\n",
        "plt.plot(hidden_dims[:6], cpu_time, label='cpu')\n",
        "plt.plot(hidden_dims[:6], gpu_time, label='gpu')\n",
        "plt.legend()\n",
        "plt.yscale('log')\n",
        "plt.xscale('log')\n",
        "plt.xlabel('rank')\n",
        "plt.ylabel('time in seconds');"
      ]
    },
    {
      "cell_type": "code",
      "source": [],
      "metadata": {
        "id": "5yFq9qAOO6Wv"
      },
      "id": "5yFq9qAOO6Wv",
      "execution_count": null,
      "outputs": []
    }
  ],
  "metadata": {
    "kernelspec": {
      "display_name": "Python 3 (ipykernel)",
      "language": "python",
      "name": "python3"
    },
    "language_info": {
      "codemirror_mode": {
        "name": "ipython",
        "version": 3
      },
      "file_extension": ".py",
      "mimetype": "text/x-python",
      "name": "python",
      "nbconvert_exporter": "python",
      "pygments_lexer": "ipython3",
      "version": "3.10.6"
    },
    "colab": {
      "provenance": []
    },
    "accelerator": "GPU",
    "gpuClass": "standard"
  },
  "nbformat": 4,
  "nbformat_minor": 5
}