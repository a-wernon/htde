{
 "cells": [
  {
   "cell_type": "code",
   "execution_count": 1,
   "metadata": {},
   "outputs": [
    {
     "name": "stderr",
     "output_type": "stream",
     "text": [
      "/opt/conda/lib/python3.10/site-packages/tqdm/auto.py:22: TqdmWarning: IProgress not found. Please update jupyter and ipywidgets. See https://ipywidgets.readthedocs.io/en/stable/user_install.html\n",
      "  from .autonotebook import tqdm as notebook_tqdm\n"
     ]
    }
   ],
   "source": [
    "import torch\n",
    "import torch.nn as nn\n",
    "import matplotlib.pyplot as plt\n",
    "import pandas as pd\n",
    "import seaborn as sns\n",
    "import sklearn\n",
    "from sklearn import datasets\n",
    "\n",
    "import numpy as np"
   ]
  },
  {
   "cell_type": "code",
   "execution_count": 2,
   "metadata": {},
   "outputs": [
    {
     "data": {
      "text/plain": [
       "torch.Size([5, 2])"
      ]
     },
     "execution_count": 2,
     "metadata": {},
     "output_type": "execute_result"
    }
   ],
   "source": [
    "a = torch.arange(60.).reshape(3, 4, 5)\n",
    "b = torch.arange(24.).reshape(4, 3, 2)\n",
    "torch.tensordot(a, b, dims=([1, 0], [0, 1])).shape"
   ]
  },
  {
   "cell_type": "code",
   "execution_count": 3,
   "metadata": {},
   "outputs": [],
   "source": [
    "import tqdm"
   ]
  },
  {
   "cell_type": "code",
   "execution_count": 4,
   "metadata": {
    "collapsed": false,
    "jupyter": {
     "outputs_hidden": false
    },
    "pycharm": {
     "name": "#%%\n"
    }
   },
   "outputs": [],
   "source": [
    "a = torch.Tensor(np.arange(1*3*4).reshape(1, 3, 4))\n",
    "b = torch.Tensor(np.arange(4*5*6).reshape(4, 5, 6))\n",
    "c = torch.Tensor(np.arange(6*7*8).reshape(6, 7, 8))\n",
    "d = torch.Tensor(np.arange(8*9*1).reshape(8, 9, 1))\n"
   ]
  },
  {
   "cell_type": "code",
   "execution_count": 5,
   "metadata": {
    "collapsed": false,
    "jupyter": {
     "outputs_hidden": false
    },
    "pycharm": {
     "name": "#%%\n"
    }
   },
   "outputs": [
    {
     "name": "stdout",
     "output_type": "stream",
     "text": [
      "(1, 3, 5, 6) (1, 3, 5, 7, 8) (1, 3, 5, 7, 9, 1)\n"
     ]
    }
   ],
   "source": [
    "ab = np.einsum('ijk,kln->ijln', a, b)\n",
    "abc = np.einsum('ijkl,lnm->ijknm', ab, c)\n",
    "abcd = np.einsum('ijkln,nmo->ijklmo', abc, d)\n",
    "print(ab.shape, abc.shape, abcd.shape)\n",
    "abcd_r = abcd.reshape(3,5,7,9)"
   ]
  },
  {
   "cell_type": "code",
   "execution_count": 6,
   "metadata": {},
   "outputs": [
    {
     "data": {
      "text/plain": [
       "numpy.ndarray"
      ]
     },
     "execution_count": 6,
     "metadata": {},
     "output_type": "execute_result"
    }
   ],
   "source": [
    "type(ab)"
   ]
  },
  {
   "cell_type": "code",
   "execution_count": 7,
   "metadata": {
    "collapsed": false,
    "jupyter": {
     "outputs_hidden": false
    },
    "pycharm": {
     "name": "#%%\n"
    }
   },
   "outputs": [],
   "source": [
    "a_t = np.random.rand(1, 3, 4)\n",
    "b_t = np.random.rand(4, 5, 6)\n",
    "c_t = np.random.rand(6, 7, 8)\n",
    "d_t = np.random.rand(8, 9, 1)"
   ]
  },
  {
   "cell_type": "code",
   "execution_count": 8,
   "metadata": {
    "collapsed": false,
    "jupyter": {
     "outputs_hidden": false
    },
    "pycharm": {
     "name": "#%%\n"
    }
   },
   "outputs": [
    {
     "name": "stdout",
     "output_type": "stream",
     "text": [
      "(1, 3, 5, 6) (1, 3, 5, 7, 8) (1, 3, 5, 7, 9, 1)\n"
     ]
    }
   ],
   "source": [
    "ab_t = np.einsum('ijk,kln', a_t, b_t)\n",
    "abc_t = np.einsum('ijkl,lnm->ijknm', ab_t, c_t)\n",
    "abcd_t = np.einsum('ijkln,nmo->ijklmo', abc_t, d_t)\n",
    "print(ab_t.shape, abc_t.shape, abcd_t.shape)\n",
    "test_tensor = abcd_t.reshape(3,5,7,9)"
   ]
  },
  {
   "cell_type": "code",
   "execution_count": 9,
   "metadata": {
    "collapsed": false,
    "jupyter": {
     "outputs_hidden": false
    },
    "pycharm": {
     "name": "#%%\n"
    }
   },
   "outputs": [
    {
     "data": {
      "text/plain": [
       "array(4.92555943e+12)"
      ]
     },
     "execution_count": 9,
     "metadata": {},
     "output_type": "execute_result"
    }
   ],
   "source": [
    "np.tensordot(abcd_r, test_tensor, axes=[[0,1,2,3],[0,1,2,3]])"
   ]
  },
  {
   "cell_type": "code",
   "execution_count": 10,
   "metadata": {
    "collapsed": false,
    "jupyter": {
     "outputs_hidden": false
    },
    "pycharm": {
     "name": "#%%\n"
    }
   },
   "outputs": [
    {
     "name": "stdout",
     "output_type": "stream",
     "text": [
      "(4, 4)\n",
      "(6, 6)\n",
      "(8, 8)\n",
      "(1, 1)\n"
     ]
    },
    {
     "data": {
      "text/plain": [
       "array([[4.92555948e+12]])"
      ]
     },
     "execution_count": 10,
     "metadata": {},
     "output_type": "execute_result"
    }
   ],
   "source": [
    "res = np.array([1]).reshape(1, 1)\n",
    "res = np.einsum('ix, inj, xny -> jy', res, a, a_t)\n",
    "print(res.shape)\n",
    "#res * np.einsum('inj, iny -> jy', a, at)\n",
    "res = np.einsum('ix, inj, xny -> jy', res, b, b_t)\n",
    "print(res.shape)\n",
    "res = np.einsum('ix, inj, xny -> jy', res, c, c_t)\n",
    "print(res.shape)\n",
    "res = np.einsum('ix, inj, xny -> jy', res, d, d_t)\n",
    "print(res.shape)\n",
    "#np.einsum('ix, inj, xny -> jy', res, c, ct)\n",
    "res\n",
    "\n",
    "# я удивлен, но я все правильно понял)"
   ]
  },
  {
   "cell_type": "code",
   "execution_count": null,
   "metadata": {
    "collapsed": false,
    "jupyter": {
     "outputs_hidden": false
    },
    "pycharm": {
     "name": "#%%\n"
    }
   },
   "outputs": [],
   "source": []
  },
  {
   "cell_type": "code",
   "execution_count": 11,
   "metadata": {
    "collapsed": false,
    "jupyter": {
     "outputs_hidden": false
    },
    "pycharm": {
     "name": "#%%\n"
    }
   },
   "outputs": [],
   "source": [
    "# тестим хрень\n",
    "import numpy as np\n",
    "from ht.ht import *\n",
    "r_1 = 3\n",
    "r_2 = 4\n",
    "\n",
    "content_1 = [\n",
    "    [\n",
    "        torch.Tensor(np.random.rand(1, 30, r_1)),\n",
    "        torch.Tensor(np.random.rand(r_1, r_1, r_1)),\n",
    "        torch.Tensor(np.random.rand(r_1, 40, 1))\n",
    "    ],\n",
    "    torch.Tensor(np.random.rand(r_1, 1, r_1)),\n",
    "    [\n",
    "        torch.Tensor(np.random.rand(1, 60, r_1)),\n",
    "        torch.Tensor(np.random.rand(r_1, r_1, r_1)),\n",
    "        torch.Tensor(np.random.rand(r_1, 50, 1)) \n",
    "    ]\n",
    "]\n",
    "\n",
    "content_2 = [\n",
    "    [\n",
    "        torch.Tensor(np.random.rand(1, 30, r_2)),\n",
    "        torch.Tensor(np.random.rand(r_2, r_2, r_2)),\n",
    "        torch.Tensor(np.random.rand(r_2, 40, 1))\n",
    "    ],\n",
    "    torch.Tensor(np.random.rand(r_2, 1, r_2)),\n",
    "    [\n",
    "        torch.Tensor(np.random.rand(1, 60, r_2)),\n",
    "        torch.Tensor(np.random.rand(r_2, r_2, r_2)),\n",
    "        torch.Tensor(np.random.rand(r_2, 50, 1)) \n",
    "    ]\n",
    "]\n"
   ]
  },
  {
   "cell_type": "code",
   "execution_count": 12,
   "metadata": {},
   "outputs": [],
   "source": [
    "content_3 = [\n",
    "    torch.Tensor(np.random.rand(1, 30, r_2)),\n",
    "    [\n",
    "        torch.Tensor(np.random.rand(r_2, 40, r_2)),\n",
    "        [\n",
    "            torch.Tensor(np.random.rand(r_2, 60, r_2)),\n",
    "            torch.Tensor(np.random.rand(r_2, 50, 1))\n",
    "        ]\n",
    "    ]\n",
    "]"
   ]
  },
  {
   "cell_type": "code",
   "execution_count": 13,
   "metadata": {},
   "outputs": [],
   "source": [
    "HT_1 = HTuckerNode(content_1)\n",
    "HT_2 = HTuckerNode(content_2)"
   ]
  },
  {
   "cell_type": "code",
   "execution_count": 14,
   "metadata": {},
   "outputs": [
    {
     "data": {
      "text/plain": [
       "ht.ht.HTuckerNode"
      ]
     },
     "execution_count": 14,
     "metadata": {},
     "output_type": "execute_result"
    }
   ],
   "source": [
    "type(HT_1.content[0])"
   ]
  },
  {
   "cell_type": "code",
   "execution_count": 15,
   "metadata": {},
   "outputs": [
    {
     "data": {
      "text/plain": [
       "|torch.Size([1, 3, 1, 3])|torch.Size([1, 3, 3, 3])torch.Size([1, 1, 30, 3])\n",
       "|torch.Size([1, 3, 1, 3])|torch.Size([1, 3, 3, 3])\n",
       "|torch.Size([1, 3, 1, 3])|torch.Size([1, 3, 3, 3])torch.Size([1, 3, 40, 1])\n",
       "|torch.Size([1, 3, 1, 3])\n",
       "|torch.Size([1, 3, 1, 3])|torch.Size([1, 3, 3, 3])torch.Size([1, 1, 60, 3])\n",
       "|torch.Size([1, 3, 1, 3])|torch.Size([1, 3, 3, 3])\n",
       "|torch.Size([1, 3, 1, 3])|torch.Size([1, 3, 3, 3])torch.Size([1, 3, 50, 1])"
      ]
     },
     "execution_count": 15,
     "metadata": {},
     "output_type": "execute_result"
    }
   ],
   "source": [
    "HT_1"
   ]
  },
  {
   "cell_type": "code",
   "execution_count": 16,
   "metadata": {},
   "outputs": [
    {
     "name": "stdout",
     "output_type": "stream",
     "text": [
      "torch.Size([1, 3, 40, 1]) torch.Size([1, 3, 3, 3])\n",
      "ls torch.Size([1, 3, 40, 3]) torch.Size([1, 1, 30, 3])\n",
      "torch.Size([1, 1, 60, 3]) torch.Size([1, 3, 3, 3])\n",
      "torch.Size([1, 1, 30, 40, 3]) torch.Size([1, 3, 1, 3])\n"
     ]
    },
    {
     "data": {
      "text/plain": [
       "torch.Size([1, 1, 30, 40, 60, 50, 1])"
      ]
     },
     "execution_count": 16,
     "metadata": {},
     "output_type": "execute_result"
    }
   ],
   "source": [
    "HT_1.get_full().shape"
   ]
  },
  {
   "cell_type": "code",
   "execution_count": 17,
   "metadata": {},
   "outputs": [],
   "source": [
    "A = np.array([[1, 1, 1],\n",
    "           [2, 2, 2],\n",
    "           [5, 5, 5]])\n",
    "\n",
    "B = np.array([[0, 1, 0],\n",
    "           [1, 1, 0],\n",
    "           [1, 1, 1]])"
   ]
  },
  {
   "cell_type": "code",
   "execution_count": 18,
   "metadata": {},
   "outputs": [],
   "source": [
    "BM = np.stack((A, B), axis=0)"
   ]
  },
  {
   "cell_type": "code",
   "execution_count": 19,
   "metadata": {},
   "outputs": [],
   "source": [
    "BMM = np.einsum(\"bij, bjk, bkl -> bil\", BM, BM, BM)"
   ]
  },
  {
   "cell_type": "code",
   "execution_count": 20,
   "metadata": {},
   "outputs": [
    {
     "data": {
      "text/plain": [
       "array([[1, 2, 0],\n",
       "       [2, 3, 0],\n",
       "       [4, 6, 1]])"
      ]
     },
     "execution_count": 20,
     "metadata": {},
     "output_type": "execute_result"
    }
   ],
   "source": [
    "B @ B @ B"
   ]
  },
  {
   "cell_type": "code",
   "execution_count": 21,
   "metadata": {},
   "outputs": [
    {
     "data": {
      "text/plain": [
       "(2, 3, 3)"
      ]
     },
     "execution_count": 21,
     "metadata": {},
     "output_type": "execute_result"
    }
   ],
   "source": [
    "BMM.shape"
   ]
  },
  {
   "cell_type": "code",
   "execution_count": 22,
   "metadata": {},
   "outputs": [],
   "source": [
    "a = np.array([[1,2], [3,4], [5,6]])\n",
    "b = np.array([[4,2], [5,6], [32,4]])\n",
    "b = np.array([1, 1, 1])\n",
    "#np.einsum('bi, bi, b ->b', a, b, c)"
   ]
  },
  {
   "cell_type": "code",
   "execution_count": 23,
   "metadata": {},
   "outputs": [
    {
     "data": {
      "text/plain": [
       "|torch.Size([1, 3, 1, 3])|torch.Size([1, 3, 3, 3])torch.Size([1, 1, 30, 3])\n",
       "|torch.Size([1, 3, 1, 3])|torch.Size([1, 3, 3, 3])\n",
       "|torch.Size([1, 3, 1, 3])|torch.Size([1, 3, 3, 3])torch.Size([1, 3, 40, 1])\n",
       "|torch.Size([1, 3, 1, 3])\n",
       "|torch.Size([1, 3, 1, 3])|torch.Size([1, 3, 3, 3])torch.Size([1, 1, 60, 3])\n",
       "|torch.Size([1, 3, 1, 3])|torch.Size([1, 3, 3, 3])\n",
       "|torch.Size([1, 3, 1, 3])|torch.Size([1, 3, 3, 3])torch.Size([1, 3, 50, 1])"
      ]
     },
     "execution_count": 23,
     "metadata": {},
     "output_type": "execute_result"
    }
   ],
   "source": [
    "HT_1"
   ]
  },
  {
   "cell_type": "code",
   "execution_count": 24,
   "metadata": {},
   "outputs": [
    {
     "data": {
      "text/plain": [
       "|torch.Size([1, 4, 1, 4])|torch.Size([1, 4, 4, 4])torch.Size([1, 1, 30, 4])\n",
       "|torch.Size([1, 4, 1, 4])|torch.Size([1, 4, 4, 4])\n",
       "|torch.Size([1, 4, 1, 4])|torch.Size([1, 4, 4, 4])torch.Size([1, 4, 40, 1])\n",
       "|torch.Size([1, 4, 1, 4])\n",
       "|torch.Size([1, 4, 1, 4])|torch.Size([1, 4, 4, 4])torch.Size([1, 1, 60, 4])\n",
       "|torch.Size([1, 4, 1, 4])|torch.Size([1, 4, 4, 4])\n",
       "|torch.Size([1, 4, 1, 4])|torch.Size([1, 4, 4, 4])torch.Size([1, 4, 50, 1])"
      ]
     },
     "execution_count": 24,
     "metadata": {},
     "output_type": "execute_result"
    }
   ],
   "source": [
    "HT_2"
   ]
  },
  {
   "cell_type": "code",
   "execution_count": 25,
   "metadata": {
    "tags": []
   },
   "outputs": [
    {
     "data": {
      "text/plain": [
       "tensor([[[[[7.1371e+08]]]]])"
      ]
     },
     "execution_count": 25,
     "metadata": {},
     "output_type": "execute_result"
    }
   ],
   "source": [
    "HT_1.scalar_product(HT_2)"
   ]
  },
  {
   "cell_type": "code",
   "execution_count": 26,
   "metadata": {},
   "outputs": [
    {
     "name": "stdout",
     "output_type": "stream",
     "text": [
      "torch.Size([1, 3, 40, 1]) torch.Size([1, 3, 3, 3])\n",
      "ls torch.Size([1, 3, 40, 3]) torch.Size([1, 1, 30, 3])\n",
      "torch.Size([1, 1, 60, 3]) torch.Size([1, 3, 3, 3])\n",
      "torch.Size([1, 1, 30, 40, 3]) torch.Size([1, 3, 1, 3])\n",
      "torch.Size([1, 4, 40, 1]) torch.Size([1, 4, 4, 4])\n",
      "ls torch.Size([1, 4, 40, 4]) torch.Size([1, 1, 30, 4])\n",
      "torch.Size([1, 1, 60, 4]) torch.Size([1, 4, 4, 4])\n",
      "torch.Size([1, 1, 30, 40, 4]) torch.Size([1, 4, 1, 4])\n"
     ]
    },
    {
     "data": {
      "text/plain": [
       "array(7.137147e+08, dtype=float32)"
      ]
     },
     "execution_count": 26,
     "metadata": {},
     "output_type": "execute_result"
    }
   ],
   "source": [
    "HT_1_full = HT_1.get_full()\n",
    "HT_2_full = HT_2.get_full()\n",
    "\n",
    "np.tensordot(HT_1_full, HT_2_full, axes=[list(range(len(HT_1_full.shape))), list(range(len(HT_2_full.shape)))])"
   ]
  },
  {
   "cell_type": "code",
   "execution_count": 27,
   "metadata": {},
   "outputs": [
    {
     "data": {
      "text/plain": [
       "torch.Size([1, 1, 30, 40, 60, 50, 1])"
      ]
     },
     "execution_count": 27,
     "metadata": {},
     "output_type": "execute_result"
    }
   ],
   "source": [
    "HT_1_full.shape"
   ]
  },
  {
   "cell_type": "code",
   "execution_count": 28,
   "metadata": {},
   "outputs": [
    {
     "data": {
      "text/plain": [
       "tensor([3.])"
      ]
     },
     "execution_count": 28,
     "metadata": {},
     "output_type": "execute_result"
    }
   ],
   "source": [
    "torch.Tensor([3])"
   ]
  },
  {
   "cell_type": "code",
   "execution_count": 29,
   "metadata": {},
   "outputs": [
    {
     "data": {
      "text/plain": [
       "functools.partial(<function ncos at 0x7f8f79c8cdc0>, 0)"
      ]
     },
     "execution_count": 29,
     "metadata": {},
     "output_type": "execute_result"
    }
   ],
   "source": [
    "fourier_basis(0)"
   ]
  },
  {
   "cell_type": "code",
   "execution_count": 30,
   "metadata": {},
   "outputs": [
    {
     "data": {
      "text/plain": [
       "torch.Size([1, 4])"
      ]
     },
     "execution_count": 30,
     "metadata": {},
     "output_type": "execute_result"
    }
   ],
   "source": [
    "fourier_basis(0)(np.array([0, 0, 1, 2])).shape"
   ]
  },
  {
   "cell_type": "code",
   "execution_count": 31,
   "metadata": {},
   "outputs": [],
   "source": [
    "basic_size = 8\n",
    "\n",
    "# try multidim normal, dim = 8, no normal init yet, so doing by hands\n",
    "\n",
    "\n",
    "functional_content = [\n",
    "    [\n",
    "        [\n",
    "            FuncList(\n",
    "                [fourier_basis(i) for i in range(basic_size)]\n",
    "            )\n",
    "            ,\n",
    "            FuncList(\n",
    "                [fourier_basis(i) for i in range(basic_size)]\n",
    "            )\n",
    "        ],\n",
    "        [\n",
    "            FuncList(\n",
    "                [fourier_basis(i) for i in range(basic_size)]\n",
    "            )\n",
    "            ,\n",
    "            FuncList(\n",
    "                [fourier_basis(i) for i in range(basic_size)]\n",
    "            )\n",
    "        ]    \n",
    "    ],\n",
    "    [\n",
    "        [\n",
    "            FuncList(\n",
    "                [fourier_basis(i) for i in range(basic_size)]\n",
    "            )\n",
    "            ,\n",
    "            FuncList(\n",
    "                [fourier_basis(i) for i in range(basic_size)]\n",
    "            )\n",
    "        ],\n",
    "        [\n",
    "            FuncList(\n",
    "                [fourier_basis(i) for i in range(basic_size)]\n",
    "            )\n",
    "            ,\n",
    "            FuncList(\n",
    "                [fourier_basis(i) for i in range(basic_size)]\n",
    "            )\n",
    "        ]    \n",
    "    ]\n",
    "]\n",
    "\n",
    "\n",
    "\n",
    "functional_content = [\n",
    "    FuncList(\n",
    "        [fourier_basis(i) for i in range(basic_size)]\n",
    "    )\n",
    "    ,\n",
    "    FuncList(\n",
    "        [fourier_basis(i) for i in range(basic_size)]\n",
    "    )\n",
    "]\n",
    "\n",
    "\n",
    "\n"
   ]
  },
  {
   "cell_type": "code",
   "execution_count": 32,
   "metadata": {},
   "outputs": [
    {
     "data": {
      "text/plain": [
       "functools.partial(<function ncos at 0x7f8f79c8cdc0>, 0)"
      ]
     },
     "execution_count": 32,
     "metadata": {},
     "output_type": "execute_result"
    }
   ],
   "source": [
    "functional_content[0][0]"
   ]
  },
  {
   "cell_type": "code",
   "execution_count": 33,
   "metadata": {},
   "outputs": [
    {
     "data": {
      "text/plain": [
       "8"
      ]
     },
     "execution_count": 33,
     "metadata": {},
     "output_type": "execute_result"
    }
   ],
   "source": [
    "len(functional_content[1])"
   ]
  },
  {
   "cell_type": "code",
   "execution_count": 34,
   "metadata": {},
   "outputs": [],
   "source": [
    "hidden_dim = 2\n",
    "content_sample = [\n",
    "    [\n",
    "        [\n",
    "            torch.Tensor(np.random.rand(1, basic_size, hidden_dim)),\n",
    "            torch.Tensor(np.random.rand(hidden_dim, hidden_dim, hidden_dim)),\n",
    "            torch.Tensor(np.random.rand(hidden_dim, basic_size, 1))\n",
    "        ],\n",
    "    torch.Tensor(np.random.rand(hidden_dim, hidden_dim, hidden_dim)),\n",
    "        [\n",
    "            torch.Tensor(np.random.rand(1, basic_size, hidden_dim)),\n",
    "            torch.Tensor(np.random.rand(hidden_dim, hidden_dim, hidden_dim)),\n",
    "            torch.Tensor(np.random.rand(hidden_dim, basic_size, 1))\n",
    "        ]\n",
    "    ],\n",
    "    torch.Tensor(np.random.rand(hidden_dim, 1, hidden_dim)),\n",
    "    [\n",
    "        [\n",
    "            torch.Tensor(np.random.rand(1, basic_size, hidden_dim)),\n",
    "            torch.Tensor(np.random.rand(hidden_dim, hidden_dim, hidden_dim)),\n",
    "            torch.Tensor(np.random.rand(hidden_dim, basic_size, 1))\n",
    "        ],\n",
    "        torch.Tensor(np.random.rand(hidden_dim, hidden_dim, hidden_dim)),\n",
    "        [\n",
    "            torch.Tensor(np.random.rand(1, basic_size, hidden_dim)),\n",
    "            torch.Tensor(np.random.rand(hidden_dim, hidden_dim, hidden_dim)),\n",
    "            torch.Tensor(np.random.rand(hidden_dim, basic_size, 1))\n",
    "        ]\n",
    "    ]\n",
    "]\n",
    "\n",
    "content_sample = [\n",
    "    torch.Tensor(np.random.rand(1, basic_size, hidden_dim)),\n",
    "    torch.Tensor(np.random.rand(hidden_dim, 1, hidden_dim)),\n",
    "    torch.Tensor(np.random.rand(hidden_dim, basic_size, 1))\n",
    "]\n"
   ]
  },
  {
   "cell_type": "code",
   "execution_count": 35,
   "metadata": {},
   "outputs": [
    {
     "data": {
      "text/plain": [
       "ht.ht.FuncList"
      ]
     },
     "execution_count": 35,
     "metadata": {},
     "output_type": "execute_result"
    }
   ],
   "source": [
    "type(functional_content[0])"
   ]
  },
  {
   "cell_type": "code",
   "execution_count": 36,
   "metadata": {},
   "outputs": [],
   "source": [
    "basis_functions = FunctionalHTuckerNode(functional_content)"
   ]
  },
  {
   "cell_type": "code",
   "execution_count": 37,
   "metadata": {},
   "outputs": [
    {
     "name": "stdout",
     "output_type": "stream",
     "text": [
      "HTModel()\n"
     ]
    }
   ],
   "source": [
    "device = torch.device('cuda' if torch.cuda.is_available() else 'cpu')\n",
    "\n",
    "\n",
    "\n",
    "class HTModel(nn.Module):\n",
    "    def __init__(self, alpha, basis_functions, device='cpu'):\n",
    "        super(HTModel, self).__init__()\n",
    "        self.device = device\n",
    "        self.alpha = HTuckerNode(alpha, make_optim=True, device=self.device) #инитим рандомно пока, тут хранятся коэффициенты\n",
    "        self.basis_functions = basis_functions\n",
    "    def forward(self, x):\n",
    "        \n",
    "        #тут нужно в иксе вычислить значения всех базисных функций. В итоге это тензор ранга 1, как я понимаю\n",
    "        phi_big = HTuckerNode(self.basis_functions.get_val(x), device=self.device)\n",
    "        \n",
    "        out = self.alpha.scalar_product(phi_big) # scalar, size (1,1,1,1)\n",
    "        return out #torch.pow(out, 2), add it later\n",
    "\n",
    "def my_loss(model, x, debug=False):\n",
    "    # это вычисление нашего интегрального лосса в точке\n",
    "    ds = 0 #нужно получить матрицу D по формуле из иксов\n",
    "    #кажется, что в случае базиса фурье это просто единичная матрица, поэтому пока опустим.\n",
    "    comp_1 = model.alpha.scalar_product(model.alpha)\n",
    "    comp_2 = -2 * model(x)\n",
    "    \n",
    "    if debug:\n",
    "        print(comp_1, comp_2)\n",
    "    \n",
    "    return torch.sum(comp_1 + comp_2)\n",
    "\n",
    "\n",
    "# need to rewrite all of the model interfaces in future\n",
    "model = HTModel(content_sample, basis_functions, device=device).to(device)\n",
    "\n",
    "criterion = my_loss\n",
    "\n",
    "print(model)"
   ]
  },
  {
   "cell_type": "code",
   "execution_count": 38,
   "metadata": {},
   "outputs": [],
   "source": [
    "optimizer = torch.optim.Adam(model.alpha.get_params_for_optim(), lr = 1e-4)"
   ]
  },
  {
   "cell_type": "code",
   "execution_count": 39,
   "metadata": {},
   "outputs": [],
   "source": [
    "mock_data = sklearn.datasets.make_moons(n_samples=10000, shuffle=True, noise=0.003, random_state=None)[0]\n",
    "#np.concatenate((np.ones((100, 2)), -2 * np.ones((100, 2))))\n",
    "#sklearn.datasets.make_moons(n_samples=10000, shuffle=True, noise=0.003, random_state=None)[0]\n",
    "#np.random.normal(size = (10000, 2))\n",
    "mock_data -= mock_data.mean(axis = 0)\n",
    "mock_data *= ((np.pi - 1) / np.abs(mock_data).max(axis = 0))"
   ]
  },
  {
   "cell_type": "code",
   "execution_count": 40,
   "metadata": {},
   "outputs": [],
   "source": [
    "\n",
    "md_df = pd.DataFrame(mock_data[:, :2], columns=['a','b'])"
   ]
  },
  {
   "cell_type": "code",
   "execution_count": 41,
   "metadata": {
    "tags": []
   },
   "outputs": [
    {
     "data": {
      "text/plain": [
       "array([[-2.054161  ,  0.1736322 ],\n",
       "       [ 0.7058217 , -2.11844946],\n",
       "       [ 0.69909911, -0.30881771],\n",
       "       ...,\n",
       "       [-1.82444405,  1.04145639],\n",
       "       [-1.26226297,  1.89908635],\n",
       "       [-0.60879428,  2.12040218]])"
      ]
     },
     "execution_count": 41,
     "metadata": {},
     "output_type": "execute_result"
    }
   ],
   "source": [
    "mock_data"
   ]
  },
  {
   "cell_type": "code",
   "execution_count": 42,
   "metadata": {},
   "outputs": [
    {
     "data": {
      "text/plain": [
       "<matplotlib.collections.PathCollection at 0x7f8f79b143a0>"
      ]
     },
     "execution_count": 42,
     "metadata": {},
     "output_type": "execute_result"
    },
    {
     "data": {
      "image/png": "[encoded data removed]",
      "text/plain": [
       "<Figure size 640x480 with 1 Axes>"
      ]
     },
     "metadata": {},
     "output_type": "display_data"
    }
   ],
   "source": [
    "plt.scatter(mock_data[:, 0], mock_data[:, 1])"
   ]
  },
  {
   "cell_type": "code",
   "execution_count": 43,
   "metadata": {},
   "outputs": [],
   "source": [
    "#sns.kdeplot(data=md_df, x='a', y='b')"
   ]
  },
  {
   "cell_type": "code",
   "execution_count": 44,
   "metadata": {},
   "outputs": [],
   "source": [
    "#model.basis_functions.get_val(np.array([0,0]))"
   ]
  },
  {
   "cell_type": "code",
   "execution_count": 45,
   "metadata": {},
   "outputs": [
    {
     "data": {
      "text/plain": [
       "tensor([[[ 1.0000],\n",
       "         [-0.8854],\n",
       "         [-0.4648],\n",
       "         [ 0.8230],\n",
       "         [-0.5680],\n",
       "         [ 0.1204],\n",
       "         [ 0.9927],\n",
       "         [-0.9350]]])"
      ]
     },
     "execution_count": 45,
     "metadata": {},
     "output_type": "execute_result"
    }
   ],
   "source": [
    "model.basis_functions.get_val(mock_data[:6])[0][0, :, :, :]"
   ]
  },
  {
   "cell_type": "code",
   "execution_count": 46,
   "metadata": {},
   "outputs": [
    {
     "data": {
      "text/plain": [
       "tensor([[[[ 1.0000],\n",
       "          [-0.8854],\n",
       "          [-0.4648],\n",
       "          [ 0.8230],\n",
       "          [-0.5680],\n",
       "          [ 0.1204],\n",
       "          [ 0.9927],\n",
       "          [-0.9350]]]])"
      ]
     },
     "execution_count": 46,
     "metadata": {},
     "output_type": "execute_result"
    }
   ],
   "source": [
    "model.basis_functions.get_val(mock_data[:1])[0]"
   ]
  },
  {
   "cell_type": "code",
   "execution_count": 47,
   "metadata": {},
   "outputs": [
    {
     "data": {
      "text/plain": [
       "tensor([[[[[-6.3071]]]],\n",
       "\n",
       "\n",
       "\n",
       "        [[[[-0.1116]]]],\n",
       "\n",
       "\n",
       "\n",
       "        [[[[ 1.3250]]]],\n",
       "\n",
       "\n",
       "\n",
       "        [[[[ 0.9470]]]],\n",
       "\n",
       "\n",
       "\n",
       "        [[[[ 0.0766]]]],\n",
       "\n",
       "\n",
       "\n",
       "        [[[[ 1.0934]]]]], grad_fn=<ViewBackward0>)"
      ]
     },
     "execution_count": 47,
     "metadata": {},
     "output_type": "execute_result"
    }
   ],
   "source": [
    "model(mock_data[:6])"
   ]
  },
  {
   "cell_type": "code",
   "execution_count": 48,
   "metadata": {},
   "outputs": [
    {
     "data": {
      "text/plain": [
       "tensor([[[[[ 1.0462]]]],\n",
       "\n",
       "\n",
       "\n",
       "        [[[[-0.7630]]]],\n",
       "\n",
       "\n",
       "\n",
       "        [[[[-2.2863]]]]], grad_fn=<ViewBackward0>)"
      ]
     },
     "execution_count": 48,
     "metadata": {},
     "output_type": "execute_result"
    }
   ],
   "source": [
    "model(mock_data[-3:])"
   ]
  },
  {
   "cell_type": "code",
   "execution_count": 49,
   "metadata": {},
   "outputs": [
    {
     "data": {
      "text/plain": [
       "torch.Size([1, 1, 1, 1, 1])"
      ]
     },
     "execution_count": 49,
     "metadata": {},
     "output_type": "execute_result"
    }
   ],
   "source": [
    "model(mock_data[0]).shape"
   ]
  },
  {
   "cell_type": "code",
   "execution_count": 50,
   "metadata": {},
   "outputs": [
    {
     "data": {
      "text/plain": [
       "tensor(39.3082, grad_fn=<SumBackward0>)"
      ]
     },
     "execution_count": 50,
     "metadata": {},
     "output_type": "execute_result"
    }
   ],
   "source": [
    "criterion(model, mock_data[0])"
   ]
  },
  {
   "cell_type": "code",
   "execution_count": 51,
   "metadata": {},
   "outputs": [],
   "source": [
    "from sklearn.utils import shuffle"
   ]
  },
  {
   "cell_type": "code",
   "execution_count": 52,
   "metadata": {},
   "outputs": [],
   "source": [
    "losses = []"
   ]
  },
  {
   "cell_type": "code",
   "execution_count": null,
   "metadata": {},
   "outputs": [],
   "source": []
  },
  {
   "cell_type": "code",
   "execution_count": 53,
   "metadata": {
    "tags": []
   },
   "outputs": [
    {
     "name": "stderr",
     "output_type": "stream",
     "text": [
      "100%|██████████| 300/300 [02:02<00:00,  2.45it/s]\n"
     ]
    }
   ],
   "source": [
    "\n",
    "epochs = 300\n",
    "batch_size = 100\n",
    "loss = 0\n",
    "\n",
    "#batch size > 1 is broken now\n",
    "\n",
    "for i in tqdm.tqdm(range(epochs)):\n",
    "    cum_losses = []\n",
    "    loss = 0\n",
    "    ds = shuffle(mock_data)\n",
    "    for j in range(len(ds) // batch_size):\n",
    "        \n",
    "        loss += criterion(model, ds[j * batch_size: (j + 1) * batch_size])\n",
    "        \n",
    "        #print(loss)\n",
    "        \n",
    "\n",
    "        loss_fin = loss\n",
    "        #print(loss.shape)\n",
    "\n",
    "        loss_fin.backward()\n",
    "\n",
    "        cum_losses.append(loss_fin.detach().numpy())\n",
    "\n",
    "        loss = 0\n",
    "        optimizer.step()\n",
    "        optimizer.zero_grad()\n",
    "    \n",
    "    losses.append(np.mean(cum_losses) / batch_size)"
   ]
  },
  {
   "cell_type": "code",
   "execution_count": 54,
   "metadata": {},
   "outputs": [
    {
     "data": {
      "image/png": "[encoded data removed]",
      "text/plain": [
       "<Figure size 640x480 with 1 Axes>"
      ]
     },
     "metadata": {},
     "output_type": "display_data"
    }
   ],
   "source": [
    "plt.plot(losses[:])\n",
    "plt.yscale('log')"
   ]
  },
  {
   "cell_type": "code",
   "execution_count": 55,
   "metadata": {},
   "outputs": [
    {
     "name": "stdout",
     "output_type": "stream",
     "text": [
      "tensor(-1.6225, grad_fn=<DivBackward0>)\n"
     ]
    }
   ],
   "source": [
    "ls = 0\n",
    "nm_test = 100\n",
    "for i in range(nm_test):\n",
    "    ls += criterion(model, mock_data[i], debug=False)\n",
    "print(ls/nm_test)"
   ]
  },
  {
   "cell_type": "code",
   "execution_count": 56,
   "metadata": {},
   "outputs": [
    {
     "data": {
      "text/plain": [
       "(tensor([[[[[2.3356]]]]], grad_fn=<ViewBackward0>),\n",
       " array([-0.94754718,  2.07276479]),\n",
       " tensor([[[[[2.7096]]]]], grad_fn=<ViewBackward0>),\n",
       " array([ 0.59069114, -2.12190996]))"
      ]
     },
     "execution_count": 56,
     "metadata": {},
     "output_type": "execute_result"
    }
   ],
   "source": [
    "model(mock_data[6]), mock_data[6], model(mock_data[-6]), mock_data[-6]"
   ]
  },
  {
   "cell_type": "code",
   "execution_count": 57,
   "metadata": {},
   "outputs": [],
   "source": [
    "from itertools import product"
   ]
  },
  {
   "cell_type": "code",
   "execution_count": 58,
   "metadata": {},
   "outputs": [],
   "source": [
    "grid = product(np.linspace(-np.pi, np.pi, num = 100), np.linspace(-np.pi, np.pi, num = 100))"
   ]
  },
  {
   "cell_type": "code",
   "execution_count": 59,
   "metadata": {},
   "outputs": [],
   "source": [
    "nm = 50\n",
    "ans_list = np.zeros(shape=(nm, nm))\n",
    "for i, valx in enumerate(np.linspace(-np.pi, np.pi, num = nm)):\n",
    "    for j, valy in enumerate(np.linspace(-np.pi, np.pi, num = nm)):\n",
    "        ans_list[i][j] = model(np.array([valx, valy]))#, 0, 0, 0, 0, 0, 0]))"
   ]
  },
  {
   "cell_type": "code",
   "execution_count": 60,
   "metadata": {},
   "outputs": [
    {
     "data": {
      "text/plain": [
       "<AxesSubplot: >"
      ]
     },
     "execution_count": 60,
     "metadata": {},
     "output_type": "execute_result"
    },
    {
     "data": {
      "image/png": "[encoded data removed]",
      "text/plain": [
       "<Figure size 640x480 with 2 Axes>"
      ]
     },
     "metadata": {},
     "output_type": "display_data"
    }
   ],
   "source": [
    "a = np.linspace(-np.pi, np.pi, num = nm)\n",
    "\n",
    "ar = [str(a[i]) if i % 5 == 0 else '' for i in range(len(a))]\n",
    "sns.heatmap(ans_list, xticklabels=ar, yticklabels=ar)"
   ]
  },
  {
   "cell_type": "code",
   "execution_count": null,
   "metadata": {},
   "outputs": [],
   "source": []
  }
 ],
 "metadata": {
  "kernelspec": {
   "display_name": "Python 3 (ipykernel)",
   "language": "python",
   "name": "python3"
  },
  "language_info": {
   "codemirror_mode": {
    "name": "ipython",
    "version": 3
   },
   "file_extension": ".py",
   "mimetype": "text/x-python",
   "name": "python",
   "nbconvert_exporter": "python",
   "pygments_lexer": "ipython3",
   "version": "3.10.6"
  }
 },
 "nbformat": 4,
 "nbformat_minor": 4
}
