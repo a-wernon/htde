{
 "cells": [
  {
   "cell_type": "code",
   "execution_count": 1,
   "metadata": {},
   "outputs": [
    {
     "name": "stderr",
     "output_type": "stream",
     "text": [
      "/opt/conda/lib/python3.10/site-packages/tqdm/auto.py:22: TqdmWarning: IProgress not found. Please update jupyter and ipywidgets. See https://ipywidgets.readthedocs.io/en/stable/user_install.html\n",
      "  from .autonotebook import tqdm as notebook_tqdm\n"
     ]
    }
   ],
   "source": [
    "import torch\n",
    "import torch.nn as nn\n",
    "import matplotlib.pyplot as plt\n",
    "import pandas as pd\n",
    "import seaborn as sns\n",
    "import sklearn\n",
    "from sklearn import datasets\n",
    "\n",
    "import numpy as np"
   ]
  },
  {
   "cell_type": "code",
   "execution_count": 2,
   "metadata": {},
   "outputs": [],
   "source": [
    "import tqdm"
   ]
  },
  {
   "cell_type": "code",
   "execution_count": 3,
   "metadata": {
    "collapsed": false,
    "jupyter": {
     "outputs_hidden": false
    },
    "pycharm": {
     "name": "#%%\n"
    }
   },
   "outputs": [],
   "source": [
    "a = torch.Tensor(np.arange(1*3*4).reshape(1, 3, 4))\n",
    "b = torch.Tensor(np.arange(4*5*6).reshape(4, 5, 6))\n",
    "c = torch.Tensor(np.arange(6*7*8).reshape(6, 7, 8))\n",
    "d = torch.Tensor(np.arange(8*9*1).reshape(8, 9, 1))\n"
   ]
  },
  {
   "cell_type": "code",
   "execution_count": 4,
   "metadata": {
    "collapsed": false,
    "jupyter": {
     "outputs_hidden": false
    },
    "pycharm": {
     "name": "#%%\n"
    }
   },
   "outputs": [
    {
     "name": "stdout",
     "output_type": "stream",
     "text": [
      "(1, 3, 5, 6) (1, 3, 5, 7, 8) (1, 3, 5, 7, 9, 1)\n"
     ]
    }
   ],
   "source": [
    "ab = np.einsum('ijk,kln->ijln', a, b)\n",
    "abc = np.einsum('ijkl,lnm->ijknm', ab, c)\n",
    "abcd = np.einsum('ijkln,nmo->ijklmo', abc, d)\n",
    "print(ab.shape, abc.shape, abcd.shape)\n",
    "abcd_r = abcd.reshape(3,5,7,9)"
   ]
  },
  {
   "cell_type": "code",
   "execution_count": 5,
   "metadata": {},
   "outputs": [
    {
     "data": {
      "text/plain": [
       "numpy.ndarray"
      ]
     },
     "execution_count": 5,
     "metadata": {},
     "output_type": "execute_result"
    }
   ],
   "source": [
    "type(ab)"
   ]
  },
  {
   "cell_type": "code",
   "execution_count": 6,
   "metadata": {
    "collapsed": false,
    "jupyter": {
     "outputs_hidden": false
    },
    "pycharm": {
     "name": "#%%\n"
    }
   },
   "outputs": [],
   "source": [
    "a_t = np.random.rand(1, 3, 4)\n",
    "b_t = np.random.rand(4, 5, 6)\n",
    "c_t = np.random.rand(6, 7, 8)\n",
    "d_t = np.random.rand(8, 9, 1)"
   ]
  },
  {
   "cell_type": "code",
   "execution_count": 7,
   "metadata": {
    "collapsed": false,
    "jupyter": {
     "outputs_hidden": false
    },
    "pycharm": {
     "name": "#%%\n"
    }
   },
   "outputs": [
    {
     "name": "stdout",
     "output_type": "stream",
     "text": [
      "(1, 3, 5, 6) (1, 3, 5, 7, 8) (1, 3, 5, 7, 9, 1)\n"
     ]
    }
   ],
   "source": [
    "ab_t = np.einsum('ijk,kln', a_t, b_t)\n",
    "abc_t = np.einsum('ijkl,lnm->ijknm', ab_t, c_t)\n",
    "abcd_t = np.einsum('ijkln,nmo->ijklmo', abc_t, d_t)\n",
    "print(ab_t.shape, abc_t.shape, abcd_t.shape)\n",
    "test_tensor = abcd_t.reshape(3,5,7,9)"
   ]
  },
  {
   "cell_type": "code",
   "execution_count": 8,
   "metadata": {
    "collapsed": false,
    "jupyter": {
     "outputs_hidden": false
    },
    "pycharm": {
     "name": "#%%\n"
    }
   },
   "outputs": [
    {
     "data": {
      "text/plain": [
       "array(6.65803653e+12)"
      ]
     },
     "execution_count": 8,
     "metadata": {},
     "output_type": "execute_result"
    }
   ],
   "source": [
    "np.tensordot(abcd_r, test_tensor, axes=[[0,1,2,3],[0,1,2,3]])"
   ]
  },
  {
   "cell_type": "code",
   "execution_count": 9,
   "metadata": {
    "collapsed": false,
    "jupyter": {
     "outputs_hidden": false
    },
    "pycharm": {
     "name": "#%%\n"
    }
   },
   "outputs": [
    {
     "name": "stdout",
     "output_type": "stream",
     "text": [
      "(4, 4)\n",
      "(6, 6)\n",
      "(8, 8)\n",
      "(1, 1)\n"
     ]
    },
    {
     "data": {
      "text/plain": [
       "array([[6.65803658e+12]])"
      ]
     },
     "execution_count": 9,
     "metadata": {},
     "output_type": "execute_result"
    }
   ],
   "source": [
    "res = np.array([1]).reshape(1, 1)\n",
    "res = np.einsum('ix, inj, xny -> jy', res, a, a_t)\n",
    "print(res.shape)\n",
    "#res * np.einsum('inj, iny -> jy', a, at)\n",
    "res = np.einsum('ix, inj, xny -> jy', res, b, b_t)\n",
    "print(res.shape)\n",
    "res = np.einsum('ix, inj, xny -> jy', res, c, c_t)\n",
    "print(res.shape)\n",
    "res = np.einsum('ix, inj, xny -> jy', res, d, d_t)\n",
    "print(res.shape)\n",
    "#np.einsum('ix, inj, xny -> jy', res, c, ct)\n",
    "res\n",
    "\n",
    "# я удивлен, но я все правильно понял)"
   ]
  },
  {
   "cell_type": "code",
   "execution_count": null,
   "metadata": {
    "collapsed": false,
    "jupyter": {
     "outputs_hidden": false
    },
    "pycharm": {
     "name": "#%%\n"
    }
   },
   "outputs": [],
   "source": []
  },
  {
   "cell_type": "code",
   "execution_count": 10,
   "metadata": {
    "collapsed": false,
    "jupyter": {
     "outputs_hidden": false
    },
    "pycharm": {
     "name": "#%%\n"
    }
   },
   "outputs": [],
   "source": [
    "# тестим хрень\n",
    "import numpy as np\n",
    "from ht.ht import *\n",
    "r_1 = 3\n",
    "r_2 = 4\n",
    "\n",
    "content_1 = [\n",
    "    [\n",
    "        torch.Tensor(np.random.rand(1, 30, r_1)),\n",
    "        torch.Tensor(np.random.rand(r_1, 40, r_1))\n",
    "    ],\n",
    "    [\n",
    "        torch.Tensor(np.random.rand(r_1, 60, r_1)),\n",
    "        torch.Tensor(np.random.rand(r_1, 50, 1)) \n",
    "    ]\n",
    "]\n",
    "\n",
    "content_2 = [\n",
    "    [\n",
    "        torch.Tensor(np.random.rand(1, 30, r_2)),\n",
    "        torch.Tensor(np.random.rand(r_2, 40, r_2))\n",
    "    ],\n",
    "    [\n",
    "        torch.Tensor(np.random.rand(r_2, 60, r_2)),\n",
    "        torch.Tensor(np.random.rand(r_2, 50, 1)) \n",
    "    ]\n",
    "]\n"
   ]
  },
  {
   "cell_type": "code",
   "execution_count": 11,
   "metadata": {},
   "outputs": [],
   "source": [
    "content_3 = [\n",
    "    torch.Tensor(np.random.rand(1, 30, r_2)),\n",
    "    [\n",
    "        torch.Tensor(np.random.rand(r_2, 40, r_2)),\n",
    "        [\n",
    "            torch.Tensor(np.random.rand(r_2, 60, r_2)),\n",
    "            torch.Tensor(np.random.rand(r_2, 50, 1))\n",
    "        ]\n",
    "    ]\n",
    "]"
   ]
  },
  {
   "cell_type": "code",
   "execution_count": 12,
   "metadata": {},
   "outputs": [],
   "source": [
    "HT_1 = HTuckerNode(content_1)\n",
    "HT_2 = HTuckerNode(content_2)"
   ]
  },
  {
   "cell_type": "code",
   "execution_count": 13,
   "metadata": {},
   "outputs": [
    {
     "data": {
      "text/plain": [
       "ht.ht.HTuckerNode"
      ]
     },
     "execution_count": 13,
     "metadata": {},
     "output_type": "execute_result"
    }
   ],
   "source": [
    "type(HT_1.content[0])"
   ]
  },
  {
   "cell_type": "code",
   "execution_count": 14,
   "metadata": {},
   "outputs": [
    {
     "data": {
      "text/plain": [
       "||torch.Size([1, 30, 3])\n",
       "||\n",
       "||torch.Size([3, 40, 3])\n",
       "|\n",
       "||torch.Size([3, 60, 3])\n",
       "||\n",
       "||torch.Size([3, 50, 1])"
      ]
     },
     "execution_count": 14,
     "metadata": {},
     "output_type": "execute_result"
    }
   ],
   "source": [
    "HT_1"
   ]
  },
  {
   "cell_type": "code",
   "execution_count": 15,
   "metadata": {},
   "outputs": [
    {
     "data": {
      "text/plain": [
       "torch.Size([1, 30, 40, 60, 50, 1])"
      ]
     },
     "execution_count": 15,
     "metadata": {},
     "output_type": "execute_result"
    }
   ],
   "source": [
    "HT_1.get_full().shape"
   ]
  },
  {
   "cell_type": "code",
   "execution_count": 16,
   "metadata": {},
   "outputs": [
    {
     "data": {
      "text/plain": [
       "tensor([[[[21568102.]]]])"
      ]
     },
     "execution_count": 16,
     "metadata": {},
     "output_type": "execute_result"
    }
   ],
   "source": [
    "HT_1.scalar_product(HT_2)"
   ]
  },
  {
   "cell_type": "code",
   "execution_count": 17,
   "metadata": {},
   "outputs": [
    {
     "data": {
      "text/plain": [
       "array(21568100., dtype=float32)"
      ]
     },
     "execution_count": 17,
     "metadata": {},
     "output_type": "execute_result"
    }
   ],
   "source": [
    "HT_1_full = HT_1.get_full()\n",
    "HT_2_full = HT_2.get_full()\n",
    "\n",
    "np.tensordot(HT_1_full, HT_2_full, axes=[list(range(6)), list(range(6))])"
   ]
  },
  {
   "cell_type": "code",
   "execution_count": 18,
   "metadata": {},
   "outputs": [
    {
     "data": {
      "text/plain": [
       "tensor([3.])"
      ]
     },
     "execution_count": 18,
     "metadata": {},
     "output_type": "execute_result"
    }
   ],
   "source": [
    "torch.Tensor([3])"
   ]
  },
  {
   "cell_type": "code",
   "execution_count": 19,
   "metadata": {},
   "outputs": [
    {
     "data": {
      "text/plain": [
       "functools.partial(<function ncos at 0x7fc4629bc9d0>, 0)"
      ]
     },
     "execution_count": 19,
     "metadata": {},
     "output_type": "execute_result"
    }
   ],
   "source": [
    "fourier_basis(0)"
   ]
  },
  {
   "cell_type": "code",
   "execution_count": 20,
   "metadata": {},
   "outputs": [
    {
     "data": {
      "text/plain": [
       "tensor([1.])"
      ]
     },
     "execution_count": 20,
     "metadata": {},
     "output_type": "execute_result"
    }
   ],
   "source": [
    "fourier_basis(0)(0)"
   ]
  },
  {
   "cell_type": "code",
   "execution_count": 21,
   "metadata": {},
   "outputs": [
    {
     "data": {
      "text/plain": [
       "'\\nfunctional_content = [\\n    FuncList(\\n        [fourier_basis(i) for i in range(basic_size)]\\n    )\\n    ,\\n    FuncList(\\n        [fourier_basis(i) for i in range(basic_size)]\\n    )\\n]\\n'"
      ]
     },
     "execution_count": 21,
     "metadata": {},
     "output_type": "execute_result"
    }
   ],
   "source": [
    "basic_size = 32\n",
    "\n",
    "# try multidim normal, dim = 8, no normal init yet, so doing by hands\n",
    "\n",
    "\n",
    "functional_content = [\n",
    "    [\n",
    "        [\n",
    "            FuncList(\n",
    "                [fourier_basis(i) for i in range(basic_size)]\n",
    "            )\n",
    "            ,\n",
    "            FuncList(\n",
    "                [fourier_basis(i) for i in range(basic_size)]\n",
    "            )\n",
    "        ],\n",
    "        [\n",
    "            FuncList(\n",
    "                [fourier_basis(i) for i in range(basic_size)]\n",
    "            )\n",
    "            ,\n",
    "            FuncList(\n",
    "                [fourier_basis(i) for i in range(basic_size)]\n",
    "            )\n",
    "        ]    \n",
    "    ],\n",
    "    [\n",
    "        [\n",
    "            FuncList(\n",
    "                [fourier_basis(i) for i in range(basic_size)]\n",
    "            )\n",
    "            ,\n",
    "            FuncList(\n",
    "                [fourier_basis(i) for i in range(basic_size)]\n",
    "            )\n",
    "        ],\n",
    "        [\n",
    "            FuncList(\n",
    "                [fourier_basis(i) for i in range(basic_size)]\n",
    "            )\n",
    "            ,\n",
    "            FuncList(\n",
    "                [fourier_basis(i) for i in range(basic_size)]\n",
    "            )\n",
    "        ]    \n",
    "    ]\n",
    "]\n",
    "\n",
    "\n",
    "'''\n",
    "functional_content = [\n",
    "    FuncList(\n",
    "        [fourier_basis(i) for i in range(basic_size)]\n",
    "    )\n",
    "    ,\n",
    "    FuncList(\n",
    "        [fourier_basis(i) for i in range(basic_size)]\n",
    "    )\n",
    "]\n",
    "'''\n",
    "\n",
    "\n"
   ]
  },
  {
   "cell_type": "code",
   "execution_count": 22,
   "metadata": {},
   "outputs": [
    {
     "data": {
      "text/plain": [
       "[[functools.partial(<function ncos at 0x7fc4629bc9d0>, 0),\n",
       "  functools.partial(<function nsin at 0x7fc4629bc430>, 1),\n",
       "  functools.partial(<function ncos at 0x7fc4629bc9d0>, 1),\n",
       "  functools.partial(<function nsin at 0x7fc4629bc430>, 2),\n",
       "  functools.partial(<function ncos at 0x7fc4629bc9d0>, 2),\n",
       "  functools.partial(<function nsin at 0x7fc4629bc430>, 3),\n",
       "  functools.partial(<function ncos at 0x7fc4629bc9d0>, 3),\n",
       "  functools.partial(<function nsin at 0x7fc4629bc430>, 4),\n",
       "  functools.partial(<function ncos at 0x7fc4629bc9d0>, 4),\n",
       "  functools.partial(<function nsin at 0x7fc4629bc430>, 5),\n",
       "  functools.partial(<function ncos at 0x7fc4629bc9d0>, 5),\n",
       "  functools.partial(<function nsin at 0x7fc4629bc430>, 6),\n",
       "  functools.partial(<function ncos at 0x7fc4629bc9d0>, 6),\n",
       "  functools.partial(<function nsin at 0x7fc4629bc430>, 7),\n",
       "  functools.partial(<function ncos at 0x7fc4629bc9d0>, 7),\n",
       "  functools.partial(<function nsin at 0x7fc4629bc430>, 8),\n",
       "  functools.partial(<function ncos at 0x7fc4629bc9d0>, 8),\n",
       "  functools.partial(<function nsin at 0x7fc4629bc430>, 9),\n",
       "  functools.partial(<function ncos at 0x7fc4629bc9d0>, 9),\n",
       "  functools.partial(<function nsin at 0x7fc4629bc430>, 10),\n",
       "  functools.partial(<function ncos at 0x7fc4629bc9d0>, 10),\n",
       "  functools.partial(<function nsin at 0x7fc4629bc430>, 11),\n",
       "  functools.partial(<function ncos at 0x7fc4629bc9d0>, 11),\n",
       "  functools.partial(<function nsin at 0x7fc4629bc430>, 12),\n",
       "  functools.partial(<function ncos at 0x7fc4629bc9d0>, 12),\n",
       "  functools.partial(<function nsin at 0x7fc4629bc430>, 13),\n",
       "  functools.partial(<function ncos at 0x7fc4629bc9d0>, 13),\n",
       "  functools.partial(<function nsin at 0x7fc4629bc430>, 14),\n",
       "  functools.partial(<function ncos at 0x7fc4629bc9d0>, 14),\n",
       "  functools.partial(<function nsin at 0x7fc4629bc430>, 15),\n",
       "  functools.partial(<function ncos at 0x7fc4629bc9d0>, 15),\n",
       "  functools.partial(<function nsin at 0x7fc4629bc430>, 16)],\n",
       " [functools.partial(<function ncos at 0x7fc4629bc9d0>, 0),\n",
       "  functools.partial(<function nsin at 0x7fc4629bc430>, 1),\n",
       "  functools.partial(<function ncos at 0x7fc4629bc9d0>, 1),\n",
       "  functools.partial(<function nsin at 0x7fc4629bc430>, 2),\n",
       "  functools.partial(<function ncos at 0x7fc4629bc9d0>, 2),\n",
       "  functools.partial(<function nsin at 0x7fc4629bc430>, 3),\n",
       "  functools.partial(<function ncos at 0x7fc4629bc9d0>, 3),\n",
       "  functools.partial(<function nsin at 0x7fc4629bc430>, 4),\n",
       "  functools.partial(<function ncos at 0x7fc4629bc9d0>, 4),\n",
       "  functools.partial(<function nsin at 0x7fc4629bc430>, 5),\n",
       "  functools.partial(<function ncos at 0x7fc4629bc9d0>, 5),\n",
       "  functools.partial(<function nsin at 0x7fc4629bc430>, 6),\n",
       "  functools.partial(<function ncos at 0x7fc4629bc9d0>, 6),\n",
       "  functools.partial(<function nsin at 0x7fc4629bc430>, 7),\n",
       "  functools.partial(<function ncos at 0x7fc4629bc9d0>, 7),\n",
       "  functools.partial(<function nsin at 0x7fc4629bc430>, 8),\n",
       "  functools.partial(<function ncos at 0x7fc4629bc9d0>, 8),\n",
       "  functools.partial(<function nsin at 0x7fc4629bc430>, 9),\n",
       "  functools.partial(<function ncos at 0x7fc4629bc9d0>, 9),\n",
       "  functools.partial(<function nsin at 0x7fc4629bc430>, 10),\n",
       "  functools.partial(<function ncos at 0x7fc4629bc9d0>, 10),\n",
       "  functools.partial(<function nsin at 0x7fc4629bc430>, 11),\n",
       "  functools.partial(<function ncos at 0x7fc4629bc9d0>, 11),\n",
       "  functools.partial(<function nsin at 0x7fc4629bc430>, 12),\n",
       "  functools.partial(<function ncos at 0x7fc4629bc9d0>, 12),\n",
       "  functools.partial(<function nsin at 0x7fc4629bc430>, 13),\n",
       "  functools.partial(<function ncos at 0x7fc4629bc9d0>, 13),\n",
       "  functools.partial(<function nsin at 0x7fc4629bc430>, 14),\n",
       "  functools.partial(<function ncos at 0x7fc4629bc9d0>, 14),\n",
       "  functools.partial(<function nsin at 0x7fc4629bc430>, 15),\n",
       "  functools.partial(<function ncos at 0x7fc4629bc9d0>, 15),\n",
       "  functools.partial(<function nsin at 0x7fc4629bc430>, 16)]]"
      ]
     },
     "execution_count": 22,
     "metadata": {},
     "output_type": "execute_result"
    }
   ],
   "source": [
    "functional_content[0][0]"
   ]
  },
  {
   "cell_type": "code",
   "execution_count": 23,
   "metadata": {},
   "outputs": [
    {
     "data": {
      "text/plain": [
       "2"
      ]
     },
     "execution_count": 23,
     "metadata": {},
     "output_type": "execute_result"
    }
   ],
   "source": [
    "len(functional_content[1])"
   ]
  },
  {
   "cell_type": "code",
   "execution_count": 24,
   "metadata": {},
   "outputs": [
    {
     "data": {
      "text/plain": [
       "'\\n[\\n    torch.Tensor(np.random.rand(1, basic_size, hidden_dim)).requires_grad_(),\\n    torch.Tensor(np.random.rand(hidden_dim, basic_size, 1)).requires_grad_()\\n]'"
      ]
     },
     "execution_count": 24,
     "metadata": {},
     "output_type": "execute_result"
    }
   ],
   "source": [
    "hidden_dim = 4\n",
    "content_sample = [\n",
    "    [\n",
    "        [\n",
    "            torch.Tensor(np.random.rand(1, basic_size, hidden_dim)).requires_grad_(),\n",
    "            torch.Tensor(np.random.rand(hidden_dim, basic_size, hidden_dim)).requires_grad_()\n",
    "        ],\n",
    "        [\n",
    "            torch.Tensor(np.random.rand(hidden_dim, basic_size, hidden_dim)).requires_grad_(),\n",
    "            torch.Tensor(np.random.rand(hidden_dim, basic_size, hidden_dim)).requires_grad_()\n",
    "        ]\n",
    "    ],\n",
    "    [\n",
    "        [\n",
    "            torch.Tensor(np.random.rand(hidden_dim, basic_size, hidden_dim)).requires_grad_(),\n",
    "            torch.Tensor(np.random.rand(hidden_dim, basic_size, hidden_dim)).requires_grad_()\n",
    "        ],\n",
    "        [\n",
    "            torch.Tensor(np.random.rand(hidden_dim, basic_size, hidden_dim)).requires_grad_(),\n",
    "            torch.Tensor(np.random.rand(hidden_dim, basic_size, 1)).requires_grad_()\n",
    "        ]\n",
    "    ]\n",
    "]\n",
    "\n",
    "'''\n",
    "[\n",
    "    torch.Tensor(np.random.rand(1, basic_size, hidden_dim)).requires_grad_(),\n",
    "    torch.Tensor(np.random.rand(hidden_dim, basic_size, 1)).requires_grad_()\n",
    "]'''\n"
   ]
  },
  {
   "cell_type": "code",
   "execution_count": 25,
   "metadata": {},
   "outputs": [
    {
     "data": {
      "text/plain": [
       "list"
      ]
     },
     "execution_count": 25,
     "metadata": {},
     "output_type": "execute_result"
    }
   ],
   "source": [
    "type(functional_content[0])"
   ]
  },
  {
   "cell_type": "code",
   "execution_count": 26,
   "metadata": {},
   "outputs": [],
   "source": [
    "basis_functions = FunctionalHTuckerNode(functional_content)"
   ]
  },
  {
   "cell_type": "code",
   "execution_count": 27,
   "metadata": {},
   "outputs": [
    {
     "name": "stdout",
     "output_type": "stream",
     "text": [
      "HTModel()\n"
     ]
    }
   ],
   "source": [
    "device = torch.device('cuda' if torch.cuda.is_available() else 'cpu')\n",
    "\n",
    "\n",
    "\n",
    "class HTModel(nn.Module):\n",
    "    def __init__(self, alpha, basis_functions):\n",
    "        super(HTModel, self).__init__()\n",
    "        self.alpha = HTuckerNode(alpha) #инитим рандомно пока, тут хранятся коэффициенты\n",
    "        self.basis_functions = basis_functions\n",
    "    def forward(self, x):\n",
    "        \n",
    "        #тут нужно в иксе вычислить значения всех базисных функций. В итоге это тензор ранга 1, как я понимаю\n",
    "        phi_big = HTuckerNode(self.basis_functions.get_val(x))\n",
    "        \n",
    "        out = self.alpha.scalar_product(phi_big) # scalar, size (1,1,1,1)\n",
    "        return out #torch.pow(out, 2), add it later\n",
    "\n",
    "def my_loss(model, x, debug=False):\n",
    "    # это вычисление нашего интегрального лосса в точке\n",
    "    ds = 0 #нужно получить матрицу D по формуле из иксов\n",
    "    #кажется, что в случае базиса фурье это просто единичная матрица, поэтому пока опустим.\n",
    "    comp_1 = model.alpha.scalar_product(model.alpha)\n",
    "    comp_2 = -2 * model(x)\n",
    "    \n",
    "    if debug:\n",
    "        print(comp_1, comp_2)\n",
    "    \n",
    "    return comp_1 + comp_2\n",
    "\n",
    "\n",
    "model = HTModel(content_sample, basis_functions).to(device)\n",
    "optimizer = torch.optim.Adam(model.alpha.get_params_for_optim())\n",
    "criterion = my_loss\n",
    "\n",
    "print(model)"
   ]
  },
  {
   "cell_type": "code",
   "execution_count": null,
   "metadata": {},
   "outputs": [],
   "source": []
  },
  {
   "cell_type": "code",
   "execution_count": 28,
   "metadata": {},
   "outputs": [],
   "source": [
    "mock_data = np.random.normal(size = (1000, 8))\n",
    "#sklearn.datasets.make_moons(n_samples=10000, shuffle=True, noise=0.1, random_state=None)[0]\n",
    "#np.random.normal(size = (10000, 2))\n",
    "mock_data -= mock_data.mean(axis = 0)\n",
    "mock_data *= ((np.pi - 1) / np.abs(mock_data).max(axis = 0))"
   ]
  },
  {
   "cell_type": "code",
   "execution_count": 29,
   "metadata": {},
   "outputs": [],
   "source": [
    "\n",
    "md_df = pd.DataFrame(mock_data[:, :2], columns=['a','b'])"
   ]
  },
  {
   "cell_type": "code",
   "execution_count": 30,
   "metadata": {},
   "outputs": [
    {
     "data": {
      "text/plain": [
       "array([[-0.00428817,  0.92042812, -0.28170021, ...,  1.25389479,\n",
       "         1.02049765,  0.05057548],\n",
       "       [ 0.94139429, -0.49893159,  0.90154411, ...,  0.51229866,\n",
       "        -0.06657871, -0.26300476],\n",
       "       [ 0.34723349, -0.90636134, -0.70346682, ...,  0.53215462,\n",
       "        -0.82901524,  0.70624487],\n",
       "       ...,\n",
       "       [ 0.03659764,  0.51364724, -0.49872171, ...,  0.57324629,\n",
       "        -0.89673924, -0.63949703],\n",
       "       [ 0.29823585,  0.33202406,  0.64279199, ..., -0.48943674,\n",
       "        -0.0796656 , -0.15662213],\n",
       "       [-0.91399064, -0.03292158,  0.77022541, ..., -1.12090702,\n",
       "         0.67812984, -0.42283004]])"
      ]
     },
     "execution_count": 30,
     "metadata": {},
     "output_type": "execute_result"
    }
   ],
   "source": [
    "mock_data"
   ]
  },
  {
   "cell_type": "code",
   "execution_count": 31,
   "metadata": {},
   "outputs": [
    {
     "data": {
      "text/plain": [
       "<matplotlib.collections.PathCollection at 0x7fc462800070>"
      ]
     },
     "execution_count": 31,
     "metadata": {},
     "output_type": "execute_result"
    },
    {
     "data": {
      "image/png": "[encoded data removed]",
      "text/plain": [
       "<Figure size 640x480 with 1 Axes>"
      ]
     },
     "metadata": {},
     "output_type": "display_data"
    }
   ],
   "source": [
    "plt.scatter(mock_data[:, 0], mock_data[:, 1])"
   ]
  },
  {
   "cell_type": "code",
   "execution_count": 32,
   "metadata": {},
   "outputs": [
    {
     "data": {
      "text/plain": [
       "<AxesSubplot: xlabel='a', ylabel='b'>"
      ]
     },
     "execution_count": 32,
     "metadata": {},
     "output_type": "execute_result"
    },
    {
     "data": {
      "image/png": "[encoded data removed]",
      "text/plain": [
       "<Figure size 640x480 with 1 Axes>"
      ]
     },
     "metadata": {},
     "output_type": "display_data"
    }
   ],
   "source": [
    "sns.kdeplot(data=md_df, x='a', y='b')"
   ]
  },
  {
   "cell_type": "code",
   "execution_count": 33,
   "metadata": {},
   "outputs": [
    {
     "data": {
      "text/plain": [
       "torch.Size([1, 1, 1, 1])"
      ]
     },
     "execution_count": 33,
     "metadata": {},
     "output_type": "execute_result"
    }
   ],
   "source": [
    "model(mock_data[0]).shape"
   ]
  },
  {
   "cell_type": "code",
   "execution_count": 34,
   "metadata": {},
   "outputs": [
    {
     "data": {
      "text/plain": [
       "tensor([[[[8.1726e+15]]]], grad_fn=<AddBackward0>)"
      ]
     },
     "execution_count": 34,
     "metadata": {},
     "output_type": "execute_result"
    }
   ],
   "source": [
    "criterion(model, mock_data[0])"
   ]
  },
  {
   "cell_type": "code",
   "execution_count": 35,
   "metadata": {},
   "outputs": [],
   "source": [
    "from sklearn.utils import shuffle"
   ]
  },
  {
   "cell_type": "code",
   "execution_count": 36,
   "metadata": {},
   "outputs": [],
   "source": [
    "losses = []"
   ]
  },
  {
   "cell_type": "code",
   "execution_count": 37,
   "metadata": {
    "tags": []
   },
   "outputs": [
    {
     "name": "stderr",
     "output_type": "stream",
     "text": [
      "100%|██████████| 60/60 [09:30<00:00,  9.52s/it]\n"
     ]
    }
   ],
   "source": [
    "\n",
    "epochs = 60\n",
    "batch_size = 100\n",
    "loss = 0\n",
    "\n",
    "for i in tqdm.tqdm(range(epochs)):\n",
    "    cum_losses = []\n",
    "    loss = 0\n",
    "    for j, sample in enumerate(shuffle(mock_data)):\n",
    "        \n",
    "        loss += criterion(model, sample)\n",
    "        \n",
    "        #print(loss)\n",
    "        \n",
    "        if j % batch_size == 0:\n",
    "            loss_fin = loss\n",
    "            #print(loss)\n",
    "            \n",
    "            loss_fin.backward()\n",
    "            \n",
    "            cum_losses.append(loss_fin.detach().numpy())\n",
    "            \n",
    "            loss = 0\n",
    "            optimizer.step()\n",
    "            optimizer.zero_grad()\n",
    "    \n",
    "    losses.append(np.mean(cum_losses) / batch_size)"
   ]
  },
  {
   "cell_type": "code",
   "execution_count": 38,
   "metadata": {},
   "outputs": [
    {
     "data": {
      "text/plain": [
       "[<matplotlib.lines.Line2D at 0x7fc4625f8e50>]"
      ]
     },
     "execution_count": 38,
     "metadata": {},
     "output_type": "execute_result"
    },
    {
     "data": {
      "image/png": "[encoded data removed]",
      "text/plain": [
       "<Figure size 640x480 with 1 Axes>"
      ]
     },
     "metadata": {},
     "output_type": "display_data"
    }
   ],
   "source": [
    "plt.plot(losses[40:])"
   ]
  },
  {
   "cell_type": "code",
   "execution_count": 39,
   "metadata": {},
   "outputs": [
    {
     "name": "stdout",
     "output_type": "stream",
     "text": [
      "tensor([[[[7.4178e+13]]]], grad_fn=<DivBackward0>)\n"
     ]
    }
   ],
   "source": [
    "ls = 0\n",
    "nm_test = 100\n",
    "for i in range(nm_test):\n",
    "    ls += criterion(model, mock_data[i], debug=False)\n",
    "print(ls/nm_test)"
   ]
  },
  {
   "cell_type": "code",
   "execution_count": 40,
   "metadata": {},
   "outputs": [
    {
     "data": {
      "text/plain": [
       "(tensor([[[[-16935638.]]]], grad_fn=<ReshapeAliasBackward0>),\n",
       " array([ 0.10232931, -0.25186787,  0.56493198,  0.50840968,  0.43402202,\n",
       "        -0.94722358, -0.0133615 , -0.3387887 ]))"
      ]
     },
     "execution_count": 40,
     "metadata": {},
     "output_type": "execute_result"
    }
   ],
   "source": [
    "model(mock_data[6]), mock_data[6]"
   ]
  },
  {
   "cell_type": "code",
   "execution_count": 41,
   "metadata": {},
   "outputs": [],
   "source": [
    "from itertools import product"
   ]
  },
  {
   "cell_type": "code",
   "execution_count": 42,
   "metadata": {},
   "outputs": [],
   "source": [
    "grid = product(np.linspace(-np.pi, np.pi, num = 100), np.linspace(-np.pi, np.pi, num = 100))"
   ]
  },
  {
   "cell_type": "code",
   "execution_count": 48,
   "metadata": {},
   "outputs": [],
   "source": [
    "nm = 30\n",
    "ans_list = np.zeros(shape=(nm, nm))\n",
    "for i, valx in enumerate(np.linspace(-np.pi, np.pi, num = nm)):\n",
    "    for j, valy in enumerate(np.linspace(-np.pi, np.pi, num = nm)):\n",
    "        ans_list[i][j] = model(np.array([valx, 0, 0, 0, 0, 0, 0, 0]))"
   ]
  },
  {
   "cell_type": "code",
   "execution_count": 49,
   "metadata": {},
   "outputs": [
    {
     "data": {
      "text/plain": [
       "<AxesSubplot: >"
      ]
     },
     "execution_count": 49,
     "metadata": {},
     "output_type": "execute_result"
    },
    {
     "data": {
      "image/png": "[encoded data removed]",
      "text/plain": [
       "<Figure size 640x480 with 2 Axes>"
      ]
     },
     "metadata": {},
     "output_type": "display_data"
    }
   ],
   "source": [
    "\n",
    "sns.heatmap(ans_list)"
   ]
  },
  {
   "cell_type": "code",
   "execution_count": null,
   "metadata": {},
   "outputs": [],
   "source": []
  }
 ],
 "metadata": {
  "kernelspec": {
   "display_name": "Python 3 (ipykernel)",
   "language": "python",
   "name": "python3"
  },
  "language_info": {
   "codemirror_mode": {
    "name": "ipython",
    "version": 3
   },
   "file_extension": ".py",
   "mimetype": "text/x-python",
   "name": "python",
   "nbconvert_exporter": "python",
   "pygments_lexer": "ipython3",
   "version": "3.10.6"
  }
 },
 "nbformat": 4,
 "nbformat_minor": 4
}
